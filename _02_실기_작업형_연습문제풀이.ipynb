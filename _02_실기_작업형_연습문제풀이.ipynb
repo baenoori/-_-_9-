{
 "cells": [
  {
   "cell_type": "markdown",
   "metadata": {
    "id": "view-in-github"
   },
   "source": [
    "<a href=\"https://colab.research.google.com/github/inrap8206/bigdata_analyst_certificate_korean/blob/main/%EB%B9%85%EB%B6%84%EA%B8%B0_%EC%8B%A4%EA%B8%B0_%EC%97%B0%EC%8A%B5%EB%AC%B8%EC%A0%9C%ED%92%80%EC%9D%B4_%EC%BD%94%EB%93%9C.ipynb\" target=\"_parent\"><img src=\"https://colab.research.google.com/assets/colab-badge.svg\" alt=\"Open In Colab\"/></a>"
   ]
  },
  {
   "cell_type": "markdown",
   "metadata": {
    "id": "jLpnsqhVAWYd"
   },
   "source": [
    "# 작업형1"
   ]
  },
  {
   "cell_type": "markdown",
   "metadata": {
    "id": "UNwxHrYqy_58"
   },
   "source": [
    "## [판다스] 게임판매량 데이터셋 - 출제빈도 높음"
   ]
  },
  {
   "cell_type": "code",
   "execution_count": 3,
   "metadata": {
    "id": "2uyCtGI1zOQ7"
   },
   "outputs": [],
   "source": [
    "# 데이터 Url을 이용하여 df변수에 데이터를 로드하라\n",
    "dataUrl = 'https://raw.githubusercontent.com/Datamanim/video/master/video_games_sale.csv'\n",
    "\n",
    "df = pd.read_csv(dataUrl)"
   ]
  },
  {
   "cell_type": "code",
   "execution_count": 4,
   "metadata": {
    "colab": {
     "base_uri": "https://localhost:8080/"
    },
    "id": "KchkQAwuyO3M",
    "outputId": "7937fb4f-9309-4d40-ea70-ace36837afd2"
   },
   "outputs": [
    {
     "name": "stdout",
     "output_type": "stream",
     "text": [
      "2000.0\n",
      "1980.0\n"
     ]
    }
   ],
   "source": [
    "# video_games_sales 데이터셋(video_games_sales.csv)의 출시년도(Year_of_Release) 컬럼을\n",
    "# 10년단위(ex 1990~1999 : 1990)로 변환하여 새로운 컬럼(year_of_ten)에 추가하고\n",
    "# 게임이 가장 많이 출시된 년도(10년단위)와 가장 적게 출시된 년도(10년단위)를 각각 구하여라.\n",
    "\n",
    "df['year_of_ten'] = df['Year_of_Release']//10*10\n",
    "print(df['year_of_ten'].value_counts().index[0])\n",
    "print(df['year_of_ten'].value_counts().index[-1])\n"
   ]
  },
  {
   "cell_type": "code",
   "execution_count": 5,
   "metadata": {
    "colab": {
     "base_uri": "https://localhost:8080/"
    },
    "id": "pK5tLARJz3Ft",
    "outputId": "ca888a12-a651-4fcd-cc40-55b0fb63407b"
   },
   "outputs": [
    {
     "data": {
      "text/plain": [
       "616"
      ]
     },
     "execution_count": 5,
     "metadata": {},
     "output_type": "execute_result"
    }
   ],
   "source": [
    "# 플레이스테이션 플랫폼 시리즈(PS,PS2,PS3,PS4,PSV)중 장르가 Action로 발매된 게임의 총 수는?\n",
    "len(df[(df['Platform'].isin(['PS','PS2','PS3','PS4','PSV'])) & (df['Genre'] == 'Action')])"
   ]
  },
  {
   "cell_type": "code",
   "execution_count": 6,
   "metadata": {
    "colab": {
     "base_uri": "https://localhost:8080/",
     "height": 300
    },
    "id": "erPgiITP03i2",
    "outputId": "56b31cf2-ea84-4899-fa3b-aaa1c484dde2"
   },
   "outputs": [
    {
     "data": {
      "text/html": [
       "\n",
       "  <div id=\"df-52c91639-0c2e-410b-90ad-27d485e36c3a\">\n",
       "    <div class=\"colab-df-container\">\n",
       "      <div>\n",
       "<style scoped>\n",
       "    .dataframe tbody tr th:only-of-type {\n",
       "        vertical-align: middle;\n",
       "    }\n",
       "\n",
       "    .dataframe tbody tr th {\n",
       "        vertical-align: top;\n",
       "    }\n",
       "\n",
       "    .dataframe thead th {\n",
       "        text-align: right;\n",
       "    }\n",
       "</style>\n",
       "<table border=\"1\" class=\"dataframe\">\n",
       "  <thead>\n",
       "    <tr style=\"text-align: right;\">\n",
       "      <th></th>\n",
       "      <th>User_Score</th>\n",
       "    </tr>\n",
       "    <tr>\n",
       "      <th>Platform</th>\n",
       "      <th></th>\n",
       "    </tr>\n",
       "  </thead>\n",
       "  <tbody>\n",
       "    <tr>\n",
       "      <th>PS2</th>\n",
       "      <td>7.664386</td>\n",
       "    </tr>\n",
       "    <tr>\n",
       "      <th>XB</th>\n",
       "      <td>7.540708</td>\n",
       "    </tr>\n",
       "    <tr>\n",
       "      <th>PC</th>\n",
       "      <td>7.060369</td>\n",
       "    </tr>\n",
       "    <tr>\n",
       "      <th>DS</th>\n",
       "      <td>7.047198</td>\n",
       "    </tr>\n",
       "    <tr>\n",
       "      <th>Wii</th>\n",
       "      <td>6.903758</td>\n",
       "    </tr>\n",
       "    <tr>\n",
       "      <th>PS3</th>\n",
       "      <td>6.782705</td>\n",
       "    </tr>\n",
       "    <tr>\n",
       "      <th>X360</th>\n",
       "      <td>6.780769</td>\n",
       "    </tr>\n",
       "  </tbody>\n",
       "</table>\n",
       "</div>\n",
       "      <button class=\"colab-df-convert\" onclick=\"convertToInteractive('df-52c91639-0c2e-410b-90ad-27d485e36c3a')\"\n",
       "              title=\"Convert this dataframe to an interactive table.\"\n",
       "              style=\"display:none;\">\n",
       "        \n",
       "  <svg xmlns=\"http://www.w3.org/2000/svg\" height=\"24px\"viewBox=\"0 0 24 24\"\n",
       "       width=\"24px\">\n",
       "    <path d=\"M0 0h24v24H0V0z\" fill=\"none\"/>\n",
       "    <path d=\"M18.56 5.44l.94 2.06.94-2.06 2.06-.94-2.06-.94-.94-2.06-.94 2.06-2.06.94zm-11 1L8.5 8.5l.94-2.06 2.06-.94-2.06-.94L8.5 2.5l-.94 2.06-2.06.94zm10 10l.94 2.06.94-2.06 2.06-.94-2.06-.94-.94-2.06-.94 2.06-2.06.94z\"/><path d=\"M17.41 7.96l-1.37-1.37c-.4-.4-.92-.59-1.43-.59-.52 0-1.04.2-1.43.59L10.3 9.45l-7.72 7.72c-.78.78-.78 2.05 0 2.83L4 21.41c.39.39.9.59 1.41.59.51 0 1.02-.2 1.41-.59l7.78-7.78 2.81-2.81c.8-.78.8-2.07 0-2.86zM5.41 20L4 18.59l7.72-7.72 1.47 1.35L5.41 20z\"/>\n",
       "  </svg>\n",
       "      </button>\n",
       "      \n",
       "  <style>\n",
       "    .colab-df-container {\n",
       "      display:flex;\n",
       "      flex-wrap:wrap;\n",
       "      gap: 12px;\n",
       "    }\n",
       "\n",
       "    .colab-df-convert {\n",
       "      background-color: #E8F0FE;\n",
       "      border: none;\n",
       "      border-radius: 50%;\n",
       "      cursor: pointer;\n",
       "      display: none;\n",
       "      fill: #1967D2;\n",
       "      height: 32px;\n",
       "      padding: 0 0 0 0;\n",
       "      width: 32px;\n",
       "    }\n",
       "\n",
       "    .colab-df-convert:hover {\n",
       "      background-color: #E2EBFA;\n",
       "      box-shadow: 0px 1px 2px rgba(60, 64, 67, 0.3), 0px 1px 3px 1px rgba(60, 64, 67, 0.15);\n",
       "      fill: #174EA6;\n",
       "    }\n",
       "\n",
       "    [theme=dark] .colab-df-convert {\n",
       "      background-color: #3B4455;\n",
       "      fill: #D2E3FC;\n",
       "    }\n",
       "\n",
       "    [theme=dark] .colab-df-convert:hover {\n",
       "      background-color: #434B5C;\n",
       "      box-shadow: 0px 1px 3px 1px rgba(0, 0, 0, 0.15);\n",
       "      filter: drop-shadow(0px 1px 2px rgba(0, 0, 0, 0.3));\n",
       "      fill: #FFFFFF;\n",
       "    }\n",
       "  </style>\n",
       "\n",
       "      <script>\n",
       "        const buttonEl =\n",
       "          document.querySelector('#df-52c91639-0c2e-410b-90ad-27d485e36c3a button.colab-df-convert');\n",
       "        buttonEl.style.display =\n",
       "          google.colab.kernel.accessAllowed ? 'block' : 'none';\n",
       "\n",
       "        async function convertToInteractive(key) {\n",
       "          const element = document.querySelector('#df-52c91639-0c2e-410b-90ad-27d485e36c3a');\n",
       "          const dataTable =\n",
       "            await google.colab.kernel.invokeFunction('convertToInteractive',\n",
       "                                                     [key], {});\n",
       "          if (!dataTable) return;\n",
       "\n",
       "          const docLinkHtml = 'Like what you see? Visit the ' +\n",
       "            '<a target=\"_blank\" href=https://colab.research.google.com/notebooks/data_table.ipynb>data table notebook</a>'\n",
       "            + ' to learn more about interactive tables.';\n",
       "          element.innerHTML = '';\n",
       "          dataTable['output_type'] = 'display_data';\n",
       "          await google.colab.output.renderOutput(dataTable, element);\n",
       "          const docLink = document.createElement('div');\n",
       "          docLink.innerHTML = docLinkHtml;\n",
       "          element.appendChild(docLink);\n",
       "        }\n",
       "      </script>\n",
       "    </div>\n",
       "  </div>\n",
       "  "
      ],
      "text/plain": [
       "          User_Score\n",
       "Platform            \n",
       "PS2         7.664386\n",
       "XB          7.540708\n",
       "PC          7.060369\n",
       "DS          7.047198\n",
       "Wii         6.903758\n",
       "PS3         6.782705\n",
       "X360        6.780769"
      ]
     },
     "execution_count": 6,
     "metadata": {},
     "output_type": "execute_result"
    }
   ],
   "source": [
    "# 게임이 400개 이상 출시된 플랫폼들을 추출하여 각 플랫폼의 User_Score 평균값을 구하여\n",
    "# 데이터프레임을 만들고 값을 내림차순으로 정리하여 출력하라\n",
    "\n",
    "a = pd.DataFrame(df[df['Platform'].isin(list(df['Platform'].value_counts().index[:7]))].groupby(['Platform'])['User_Score'].mean())\n",
    "a.sort_values(by='User_Score', ascending=False)"
   ]
  },
  {
   "cell_type": "code",
   "execution_count": 7,
   "metadata": {
    "colab": {
     "base_uri": "https://localhost:8080/"
    },
    "id": "P-kGTjfa1tvv",
    "outputId": "bcaad1ae-dda1-49ab-d812-09f8e52124ef"
   },
   "outputs": [
    {
     "data": {
      "text/plain": [
       "['Nintendo, Nintendo Software Technology', 'Nintendo, Nd Cube']"
      ]
     },
     "execution_count": 7,
     "metadata": {},
     "output_type": "execute_result"
    }
   ],
   "source": [
    "# 게임 이름에 Mario가 들어가는 게임을 3회 개발한 개발자(Developer컬럼)을 구하여라\n",
    "\n",
    "t = df[df['Name'].str.contains('Mario')]['Developer'].value_counts()\n",
    "list(t[t==3].index)"
   ]
  },
  {
   "cell_type": "code",
   "execution_count": 8,
   "metadata": {
    "colab": {
     "base_uri": "https://localhost:8080/"
    },
    "id": "1K_F9SEM226C",
    "outputId": "61633bab-c494-4ec8-cd11-55de8f94fdca"
   },
   "outputs": [
    {
     "data": {
      "text/plain": [
       "2.4920035946875965"
      ]
     },
     "execution_count": 8,
     "metadata": {},
     "output_type": "execute_result"
    }
   ],
   "source": [
    "# PS2 플랫폼으로 출시된 게임들의 User_Score의 첨도를 구하여라\n",
    "df[df['Platform'] == 'PS2']['User_Score'].kurtosis()"
   ]
  },
  {
   "cell_type": "code",
   "execution_count": 9,
   "metadata": {
    "colab": {
     "base_uri": "https://localhost:8080/"
    },
    "id": "G2bfkT6c37Nn",
    "outputId": "421f4728-6110-4060-a5dc-2ac50417bec4"
   },
   "outputs": [
    {
     "data": {
      "text/plain": [
       "3636"
      ]
     },
     "execution_count": 9,
     "metadata": {},
     "output_type": "execute_result"
    }
   ],
   "source": [
    "# 각 게임별 NA_Sales,EU_Sales,JP_Sales,Other_Sales 값의 합은 Global_Sales와 동일해야한다.\n",
    "# 소숫점 2자리 이하의 생략으로 둘의 값의 다른경우가 존재하는데, 이러한 케이스가 몇개 있는지 확인하라\n",
    "\n",
    "len(df[df['Global_Sales'] != df['NA_Sales'] + df['EU_Sales'] + df['JP_Sales'] + df['Other_Sales']])"
   ]
  },
  {
   "cell_type": "code",
   "execution_count": 10,
   "metadata": {
    "colab": {
     "base_uri": "https://localhost:8080/"
    },
    "id": "o6rrsj8O4VsL",
    "outputId": "85f5344d-a58f-4585-fba8-43de3447877b"
   },
   "outputs": [
    {
     "data": {
      "text/plain": [
       "86"
      ]
     },
     "execution_count": 10,
     "metadata": {},
     "output_type": "execute_result"
    }
   ],
   "source": [
    "# User_Count컬럼의 값이 120 이상인 게임들 중에서 User_Score의 값이 9.0이상인 게임의 수를 구하여라\n",
    "len(df[(df['User_Count'] >=120) & (df['User_Score'] >= 9)])"
   ]
  },
  {
   "cell_type": "code",
   "execution_count": 11,
   "metadata": {
    "colab": {
     "base_uri": "https://localhost:8080/"
    },
    "id": "IJrNIq5H4uoo",
    "outputId": "936986ee-a2b9-487e-d95a-705be212e73c"
   },
   "outputs": [
    {
     "data": {
      "text/plain": [
       "6"
      ]
     },
     "execution_count": 11,
     "metadata": {},
     "output_type": "execute_result"
    }
   ],
   "source": [
    "# Global_Sales컬럼의 값들을 robust스케일을 진행하고 40이상인 데이터 수를 구하여라\n",
    "from sklearn.preprocessing import RobustScaler\n",
    "rs = RobustScaler()\n",
    "\n",
    "df['RS_Global_Sales'] = rs.fit_transform(df['Global_Sales'].values.reshape(-1,1))\n",
    "len(df[df['RS_Global_Sales'] >= 40])"
   ]
  },
  {
   "cell_type": "markdown",
   "metadata": {
    "id": "OX6IoknH6L9x"
   },
   "source": [
    "## [통계검정] mtcars - 출제빈도 보통\n",
    " - https://blog.naver.com/ostin1038/222381788634"
   ]
  },
  {
   "cell_type": "code",
   "execution_count": 26,
   "metadata": {
    "colab": {
     "base_uri": "https://localhost:8080/",
     "height": 143
    },
    "id": "-fD3Mdra6Rjg",
    "outputId": "4d1c1966-f357-45b0-a0ae-a3588f1a4767"
   },
   "outputs": [
    {
     "data": {
      "text/html": [
       "\n",
       "  <div id=\"df-184e8484-2b1f-425a-a961-a8411b731011\">\n",
       "    <div class=\"colab-df-container\">\n",
       "      <div>\n",
       "<style scoped>\n",
       "    .dataframe tbody tr th:only-of-type {\n",
       "        vertical-align: middle;\n",
       "    }\n",
       "\n",
       "    .dataframe tbody tr th {\n",
       "        vertical-align: top;\n",
       "    }\n",
       "\n",
       "    .dataframe thead th {\n",
       "        text-align: right;\n",
       "    }\n",
       "</style>\n",
       "<table border=\"1\" class=\"dataframe\">\n",
       "  <thead>\n",
       "    <tr style=\"text-align: right;\">\n",
       "      <th></th>\n",
       "      <th>Unnamed: 0</th>\n",
       "      <th>mpg</th>\n",
       "      <th>cyl</th>\n",
       "      <th>disp</th>\n",
       "      <th>hp</th>\n",
       "      <th>drat</th>\n",
       "      <th>wt</th>\n",
       "      <th>qsec</th>\n",
       "      <th>vs</th>\n",
       "      <th>am</th>\n",
       "      <th>gear</th>\n",
       "      <th>carb</th>\n",
       "    </tr>\n",
       "  </thead>\n",
       "  <tbody>\n",
       "    <tr>\n",
       "      <th>0</th>\n",
       "      <td>Mazda RX4</td>\n",
       "      <td>21.0</td>\n",
       "      <td>6</td>\n",
       "      <td>160.0</td>\n",
       "      <td>110</td>\n",
       "      <td>3.90</td>\n",
       "      <td>2.620</td>\n",
       "      <td>16.46</td>\n",
       "      <td>0</td>\n",
       "      <td>1</td>\n",
       "      <td>4</td>\n",
       "      <td>4</td>\n",
       "    </tr>\n",
       "    <tr>\n",
       "      <th>1</th>\n",
       "      <td>Mazda RX4 Wag</td>\n",
       "      <td>21.0</td>\n",
       "      <td>6</td>\n",
       "      <td>160.0</td>\n",
       "      <td>110</td>\n",
       "      <td>3.90</td>\n",
       "      <td>2.875</td>\n",
       "      <td>17.02</td>\n",
       "      <td>0</td>\n",
       "      <td>1</td>\n",
       "      <td>4</td>\n",
       "      <td>4</td>\n",
       "    </tr>\n",
       "    <tr>\n",
       "      <th>2</th>\n",
       "      <td>Datsun 710</td>\n",
       "      <td>22.8</td>\n",
       "      <td>4</td>\n",
       "      <td>108.0</td>\n",
       "      <td>93</td>\n",
       "      <td>3.85</td>\n",
       "      <td>2.320</td>\n",
       "      <td>18.61</td>\n",
       "      <td>1</td>\n",
       "      <td>1</td>\n",
       "      <td>4</td>\n",
       "      <td>1</td>\n",
       "    </tr>\n",
       "  </tbody>\n",
       "</table>\n",
       "</div>\n",
       "      <button class=\"colab-df-convert\" onclick=\"convertToInteractive('df-184e8484-2b1f-425a-a961-a8411b731011')\"\n",
       "              title=\"Convert this dataframe to an interactive table.\"\n",
       "              style=\"display:none;\">\n",
       "        \n",
       "  <svg xmlns=\"http://www.w3.org/2000/svg\" height=\"24px\"viewBox=\"0 0 24 24\"\n",
       "       width=\"24px\">\n",
       "    <path d=\"M0 0h24v24H0V0z\" fill=\"none\"/>\n",
       "    <path d=\"M18.56 5.44l.94 2.06.94-2.06 2.06-.94-2.06-.94-.94-2.06-.94 2.06-2.06.94zm-11 1L8.5 8.5l.94-2.06 2.06-.94-2.06-.94L8.5 2.5l-.94 2.06-2.06.94zm10 10l.94 2.06.94-2.06 2.06-.94-2.06-.94-.94-2.06-.94 2.06-2.06.94z\"/><path d=\"M17.41 7.96l-1.37-1.37c-.4-.4-.92-.59-1.43-.59-.52 0-1.04.2-1.43.59L10.3 9.45l-7.72 7.72c-.78.78-.78 2.05 0 2.83L4 21.41c.39.39.9.59 1.41.59.51 0 1.02-.2 1.41-.59l7.78-7.78 2.81-2.81c.8-.78.8-2.07 0-2.86zM5.41 20L4 18.59l7.72-7.72 1.47 1.35L5.41 20z\"/>\n",
       "  </svg>\n",
       "      </button>\n",
       "      \n",
       "  <style>\n",
       "    .colab-df-container {\n",
       "      display:flex;\n",
       "      flex-wrap:wrap;\n",
       "      gap: 12px;\n",
       "    }\n",
       "\n",
       "    .colab-df-convert {\n",
       "      background-color: #E8F0FE;\n",
       "      border: none;\n",
       "      border-radius: 50%;\n",
       "      cursor: pointer;\n",
       "      display: none;\n",
       "      fill: #1967D2;\n",
       "      height: 32px;\n",
       "      padding: 0 0 0 0;\n",
       "      width: 32px;\n",
       "    }\n",
       "\n",
       "    .colab-df-convert:hover {\n",
       "      background-color: #E2EBFA;\n",
       "      box-shadow: 0px 1px 2px rgba(60, 64, 67, 0.3), 0px 1px 3px 1px rgba(60, 64, 67, 0.15);\n",
       "      fill: #174EA6;\n",
       "    }\n",
       "\n",
       "    [theme=dark] .colab-df-convert {\n",
       "      background-color: #3B4455;\n",
       "      fill: #D2E3FC;\n",
       "    }\n",
       "\n",
       "    [theme=dark] .colab-df-convert:hover {\n",
       "      background-color: #434B5C;\n",
       "      box-shadow: 0px 1px 3px 1px rgba(0, 0, 0, 0.15);\n",
       "      filter: drop-shadow(0px 1px 2px rgba(0, 0, 0, 0.3));\n",
       "      fill: #FFFFFF;\n",
       "    }\n",
       "  </style>\n",
       "\n",
       "      <script>\n",
       "        const buttonEl =\n",
       "          document.querySelector('#df-184e8484-2b1f-425a-a961-a8411b731011 button.colab-df-convert');\n",
       "        buttonEl.style.display =\n",
       "          google.colab.kernel.accessAllowed ? 'block' : 'none';\n",
       "\n",
       "        async function convertToInteractive(key) {\n",
       "          const element = document.querySelector('#df-184e8484-2b1f-425a-a961-a8411b731011');\n",
       "          const dataTable =\n",
       "            await google.colab.kernel.invokeFunction('convertToInteractive',\n",
       "                                                     [key], {});\n",
       "          if (!dataTable) return;\n",
       "\n",
       "          const docLinkHtml = 'Like what you see? Visit the ' +\n",
       "            '<a target=\"_blank\" href=https://colab.research.google.com/notebooks/data_table.ipynb>data table notebook</a>'\n",
       "            + ' to learn more about interactive tables.';\n",
       "          element.innerHTML = '';\n",
       "          dataTable['output_type'] = 'display_data';\n",
       "          await google.colab.output.renderOutput(dataTable, element);\n",
       "          const docLink = document.createElement('div');\n",
       "          docLink.innerHTML = docLinkHtml;\n",
       "          element.appendChild(docLink);\n",
       "        }\n",
       "      </script>\n",
       "    </div>\n",
       "  </div>\n",
       "  "
      ],
      "text/plain": [
       "      Unnamed: 0   mpg  cyl   disp   hp  drat     wt   qsec  vs  am  gear  \\\n",
       "0      Mazda RX4  21.0    6  160.0  110  3.90  2.620  16.46   0   1     4   \n",
       "1  Mazda RX4 Wag  21.0    6  160.0  110  3.90  2.875  17.02   0   1     4   \n",
       "2     Datsun 710  22.8    4  108.0   93  3.85  2.320  18.61   1   1     4   \n",
       "\n",
       "   carb  \n",
       "0     4  \n",
       "1     4  \n",
       "2     1  "
      ]
     },
     "execution_count": 26,
     "metadata": {},
     "output_type": "execute_result"
    }
   ],
   "source": [
    "import pandas as pd\n",
    "\n",
    "df = pd.read_csv('https://raw.githubusercontent.com/inrap8206/Bigdata_Analyst_Certificate_Korean/main/data/mtcars.csv')\n",
    "df.head(3)"
   ]
  },
  {
   "cell_type": "code",
   "execution_count": 27,
   "metadata": {
    "colab": {
     "base_uri": "https://localhost:8080/"
    },
    "id": "9C2rbV5Y6tV2",
    "outputId": "fd1642d9-f97a-43c0-cda0-dafe7f57b86a"
   },
   "outputs": [
    {
     "data": {
      "text/plain": [
       "0.122"
      ]
     },
     "execution_count": 27,
     "metadata": {},
     "output_type": "execute_result"
    }
   ],
   "source": [
    "# 문제1) 연비 mpg 변수 관련하여 단일표본 T검정 수행하고자 한다. 먼저 데이터가 정규성을 충족하는지\n",
    "# 확인하기 위해 shapiro 테스트를 진행 하고 이를 통해 나오는  p-value 값을 소수 셋째자리까지 구하시오(넷째자리에서 버림)\n",
    "from scipy.stats import shapiro\n",
    "\n",
    "float(str(shapiro(df['mpg'])[1])[:5])"
   ]
  },
  {
   "cell_type": "code",
   "execution_count": 28,
   "metadata": {
    "colab": {
     "base_uri": "https://localhost:8080/"
    },
    "id": "w33AEGfk7tpm",
    "outputId": "e00dcfa6-5fd3-43cf-fcd8-5feb3cc567c1"
   },
   "outputs": [
    {
     "data": {
      "text/plain": [
       "0.399"
      ]
     },
     "execution_count": 28,
     "metadata": {},
     "output_type": "execute_result"
    }
   ],
   "source": [
    "# 문제2) 자동차 구매시 연비를 우선순위로 삼고자 한다. Mazda Rx4를 구매하고자 하는데 \n",
    "#이 차량의 연비는 21.0이다. 이 연비 수준이 차량들의 평균 연비와 비슷한 수준인지 단일표본 T검정을 실시한다.\n",
    "#21에 대한 단일표본 p-value값을 소수 셋째자리까지 구하시오.(넷째자리에서 버림)\n",
    "\n",
    "from scipy.stats import ttest_1samp\n",
    "float(str(ttest_1samp(df['mpg'], 21)[1])[:5])"
   ]
  },
  {
   "cell_type": "code",
   "execution_count": 29,
   "metadata": {
    "colab": {
     "base_uri": "https://localhost:8080/",
     "height": 35
    },
    "id": "9FV9Q7ZW8D5u",
    "outputId": "02f05ebf-37c9-43b6-ac2c-ef2152d911b9"
   },
   "outputs": [
    {
     "data": {
      "application/vnd.google.colaboratory.intrinsic+json": {
       "type": "string"
      },
      "text/plain": [
       "'4.10'"
      ]
     },
     "execution_count": 29,
     "metadata": {},
     "output_type": "execute_result"
    }
   ],
   "source": [
    "# 문제3) 오토 방식과 수동 방식간의 연비 차이가 통계적으로 유의미한지 확인하고자 한다.\n",
    "# 오토방식은 am 변수의 1인 값이며 수동은 am 변수의 0이라 할 수 있다.\n",
    "# 두집단의 평균 차이를 독립표본 T검정을 수행하기 앞서 두 집단의 아웃라이어를 IQR 방식을 활용하여 제거한 후 수행한다\n",
    "# (3분위 + IQR*1.5 / 1분위 - IQR*1.5) 이때의 T-value 값의 절대값을 소수 셋째자리를 버림해 둘째자리 까지 구하시오\n",
    "#(오토 방식은 13개 차량, 수동은 19개 차량이며 등분산은 우선 충족한다고 가정한다)\n",
    "\n",
    "a = df[df['am'] == 1]['mpg']\n",
    "m = df[df['am'] == 0]['mpg']\n",
    "\n",
    "for i in [a,m]:\n",
    "  iqr = np.percentile(i,75) - np.percentile(i,25)\n",
    "  max_lim = iqr*1.5 + np.percentile(a,75)\n",
    "  min_lim = np.percentile(a,25) - iqr*1.5\n",
    "  i = i.loc[(i<max_lim) & (i>min_lim)]\n",
    "\n",
    "from scipy.stats import ttest_ind\n",
    "str(ttest_ind(a,m)[0])[:4]"
   ]
  },
  {
   "cell_type": "code",
   "execution_count": 30,
   "metadata": {
    "colab": {
     "base_uri": "https://localhost:8080/",
     "height": 35
    },
    "id": "HOdjS3vy9wzV",
    "outputId": "e13a8363-3977-4793-d240-52face08a4fa"
   },
   "outputs": [
    {
     "data": {
      "application/vnd.google.colaboratory.intrinsic+json": {
       "type": "string"
      },
      "text/plain": [
       "'39.69'"
      ]
     },
     "execution_count": 30,
     "metadata": {},
     "output_type": "execute_result"
    }
   ],
   "source": [
    "# 문제4) 다음 실린더 개수별 연비차이가 통계적으로 유의미한지를 ANOVA 분석을 통해 확인한다.\n",
    "# cyl 변수 실린더 개수를 바탕으로 3가지 집단의 연비 값에 대해 ANOVA 분석을 수행하고\n",
    "# F값을 소수 셋째자리에서 버림하여 둘째자리까지 나타내시오(정규성, 등분산은 우선 충족한다고 가정한다)\n",
    "\n",
    "c1 = df[df['cyl'] == 4]['mpg']\n",
    "c2 = df[df['cyl'] == 6]['mpg']\n",
    "c3 = df[df['cyl'] == 8]['mpg']\n",
    "\n",
    "from scipy.stats import f_oneway\n",
    "str(f_oneway(c1,c2,c3)[0])[:5]"
   ]
  },
  {
   "cell_type": "code",
   "execution_count": 31,
   "metadata": {
    "colab": {
     "base_uri": "https://localhost:8080/"
    },
    "id": "wP2UW7bcBB0F",
    "outputId": "b43da3d4-5f59-4cf0-ac43-93fd5e4c172e"
   },
   "outputs": [
    {
     "data": {
      "text/plain": [
       "Power_divergenceResult(statistic=119.66666666666667, pvalue=2.3614996254314185e-12)"
      ]
     },
     "execution_count": 31,
     "metadata": {},
     "output_type": "execute_result"
    }
   ],
   "source": [
    "# 문제5) 실린더의 개수가 차량의 가속도 능력과 연관성이 있는지를 카이스퀘어 검정을 통해 확인하고자 한다.\n",
    "# 실린더 개수는 cyl변수를 활용하고 가속도 능력은 ¼ 마일에 도달하는 시간 변수인 qsec을 활용하여\n",
    "# qsec의 하위 25%인 16.9 이하면 하 , 상위 25%인 18.9 이상이면 상 나머지는 중으로 명목척도화 한다.\n",
    "# 이후 실린더 개수와 차량 가속도 능력에 대한 카이스퀘어 검정을 통해 연관성을 확인한다.\n",
    "# p-value를 소수 둘째자리까지 구하시오(셋째자리에서 버림)\n",
    "\n",
    "df['qsec_'] = df['qsec'].map(lambda x : 1 if x <= 16.9 else (3 if x >=18.9 else 1))\n",
    "from scipy.stats import *\n",
    "chisquare(df['qsec_'], df['cyl'])"
   ]
  },
  {
   "cell_type": "markdown",
   "metadata": {
    "id": "wCPEpSppAcWf"
   },
   "source": [
    "## [통계검정] 다이아몬드 데이터셋 - - 출제빈도 낮음"
   ]
  },
  {
   "cell_type": "code",
   "execution_count": 12,
   "metadata": {
    "id": "AJm6gEsvAhBg"
   },
   "outputs": [],
   "source": [
    "import pandas as pd\n",
    "df = pd.read_csv('https://raw.githubusercontent.com/Datamanim/dataq/main/diamonds.csv',index_col=0)"
   ]
  },
  {
   "cell_type": "code",
   "execution_count": 13,
   "metadata": {
    "colab": {
     "base_uri": "https://localhost:8080/"
    },
    "id": "ay1427YZAomd",
    "outputId": "5e3ffbb9-fad6-44d4-f0d2-2e17497b5b57"
   },
   "outputs": [
    {
     "data": {
      "text/plain": [
       "(0.9215913011934771, 0.0)"
      ]
     },
     "execution_count": 13,
     "metadata": {},
     "output_type": "execute_result"
    }
   ],
   "source": [
    "# carat과 price사이의 상관계수와 상관계수의 p-value값은?\n",
    "from scipy import stats\n",
    "stats.pearsonr(df['carat'], df['price'])"
   ]
  },
  {
   "cell_type": "code",
   "execution_count": 14,
   "metadata": {
    "colab": {
     "base_uri": "https://localhost:8080/"
    },
    "id": "XwonLapzAuA_",
    "outputId": "01495fb1-5283-4e39-a1a0-6f785925286f"
   },
   "outputs": [
    {
     "name": "stdout",
     "output_type": "stream",
     "text": [
      "False\n"
     ]
    }
   ],
   "source": [
    "# Diamond의 평균가격은 3932로 알려져있다. ‘H’ color를 가지는 다이아몬드 집단의 평균에 대한 일표본 t검정을 시행하려한다.\n",
    "# 통계량과 pvalue값을 구하시오.유의수준 0.05에서 귀무가설 채택여부를 boolean 값으로 표현할 변수(hypo) 만들고 출력하시오\n",
    "from scipy import stats\n",
    "stats.ttest_1samp(df[df['color'] == 'H']['price'], 3932)[1]\n",
    "hypo = stats.ttest_1samp(df[df['color'] == 'H']['price'], 3932)[1] >= 0.05\n",
    "print(hypo)"
   ]
  },
  {
   "cell_type": "code",
   "execution_count": 15,
   "metadata": {
    "colab": {
     "base_uri": "https://localhost:8080/"
    },
    "id": "ANHsi-QTCQUV",
    "outputId": "e32ef21d-1dc0-4c84-f265-8b6dfad6fbc6"
   },
   "outputs": [
    {
     "name": "stdout",
     "output_type": "stream",
     "text": [
      "False\n",
      "False\n",
      "False\n",
      "False\n"
     ]
    }
   ],
   "source": [
    "# 그래프상에서 ‘F’와 ‘G’는 평균이 유사해보인다\n",
    "# 이를 확인하기 위해 집단간 등분산(levene,fligner,bartlett) 검정을 시행 후 결과를 출력하고조건에 맞는 독립표본 t검정을 시행하라\n",
    "\n",
    "x1 = df[df['color'] == 'F']['price']\n",
    "x2 = df[df['color'] == 'G']['price']\n",
    "\n",
    "print(stats.levene(x1,x2)[1]>0.05)\n",
    "print(stats.fligner(x1,x2)[1]>0.05)\n",
    "print(stats.bartlett(x1,x2)[1]>0.05)\n",
    "\n",
    "print(stats.ttest_ind(x1,x2, equal_var = False)[1]>0.05)"
   ]
  },
  {
   "cell_type": "code",
   "execution_count": 16,
   "metadata": {
    "colab": {
     "base_uri": "https://localhost:8080/"
    },
    "id": "xtSKEgG8EKo6",
    "outputId": "d3e94e69-6da3-4879-e954-47d3d4de7722"
   },
   "outputs": [
    {
     "name": "stdout",
     "output_type": "stream",
     "text": [
      "False\n",
      "False\n",
      "False\n",
      "\n",
      "KstestResult(statistic=0.18798901810560872, pvalue=2.520563863700653e-293)\n",
      "KstestResult(statistic=1.0, pvalue=0.0)\n",
      "KstestResult(statistic=1.0, pvalue=0.0)\n",
      "F_onewayResult(statistic=101.1811790316069, pvalue=1.6513790091285713e-44)\n"
     ]
    }
   ],
   "source": [
    "# color ‘F’,’G’,’D’ 세집단의 price값들에 대해 anova분석을 시행하라.\n",
    "\n",
    "x1 = df[df['color'] == 'F']['price']\n",
    "x2 = df[df['color'] == 'G']['price']\n",
    "x3 = df[df['color'] == 'D']['price']\n",
    "\n",
    "# 등분산 검정\n",
    "print(stats.levene(x1,x2,x3)[1]>0.05)\n",
    "print(stats.fligner(x1,x2,x3)[1]>0.05)\n",
    "print(stats.bartlett(x1,x2,x3)[1]>0.05)\n",
    "print()\n",
    "\n",
    "# 정규성 검정\n",
    "print(stats.kstest(x1, 'norm', args=(x1.mean(), x1.var()**0.5)))\n",
    "print(stats.kstest(x2, 'norm'))\n",
    "print(stats.kstest(x3, 'norm'))\n",
    "\n",
    "# anova\n",
    "print(stats.f_oneway(x1,x2,x3))"
   ]
  },
  {
   "cell_type": "code",
   "execution_count": 17,
   "metadata": {
    "colab": {
     "base_uri": "https://localhost:8080/",
     "height": 269
    },
    "id": "5d8uDKK9ImDE",
    "outputId": "42bc44e9-3ad0-4c76-a76b-2d7d099fe5a1"
   },
   "outputs": [
    {
     "data": {
      "text/html": [
       "\n",
       "  <div id=\"df-d0737ad4-4f74-4805-be6a-b9eb883d4679\">\n",
       "    <div class=\"colab-df-container\">\n",
       "      <div>\n",
       "<style scoped>\n",
       "    .dataframe tbody tr th:only-of-type {\n",
       "        vertical-align: middle;\n",
       "    }\n",
       "\n",
       "    .dataframe tbody tr th {\n",
       "        vertical-align: top;\n",
       "    }\n",
       "\n",
       "    .dataframe thead th {\n",
       "        text-align: right;\n",
       "    }\n",
       "</style>\n",
       "<table border=\"1\" class=\"dataframe\">\n",
       "  <thead>\n",
       "    <tr style=\"text-align: right;\">\n",
       "      <th></th>\n",
       "      <th>column</th>\n",
       "      <th>ratio</th>\n",
       "    </tr>\n",
       "  </thead>\n",
       "  <tbody>\n",
       "    <tr>\n",
       "      <th>3</th>\n",
       "      <td>price</td>\n",
       "      <td>3540</td>\n",
       "    </tr>\n",
       "    <tr>\n",
       "      <th>1</th>\n",
       "      <td>depth</td>\n",
       "      <td>2545</td>\n",
       "    </tr>\n",
       "    <tr>\n",
       "      <th>0</th>\n",
       "      <td>carat</td>\n",
       "      <td>1889</td>\n",
       "    </tr>\n",
       "    <tr>\n",
       "      <th>2</th>\n",
       "      <td>table</td>\n",
       "      <td>605</td>\n",
       "    </tr>\n",
       "    <tr>\n",
       "      <th>6</th>\n",
       "      <td>z</td>\n",
       "      <td>49</td>\n",
       "    </tr>\n",
       "    <tr>\n",
       "      <th>4</th>\n",
       "      <td>x</td>\n",
       "      <td>32</td>\n",
       "    </tr>\n",
       "    <tr>\n",
       "      <th>5</th>\n",
       "      <td>y</td>\n",
       "      <td>29</td>\n",
       "    </tr>\n",
       "  </tbody>\n",
       "</table>\n",
       "</div>\n",
       "      <button class=\"colab-df-convert\" onclick=\"convertToInteractive('df-d0737ad4-4f74-4805-be6a-b9eb883d4679')\"\n",
       "              title=\"Convert this dataframe to an interactive table.\"\n",
       "              style=\"display:none;\">\n",
       "        \n",
       "  <svg xmlns=\"http://www.w3.org/2000/svg\" height=\"24px\"viewBox=\"0 0 24 24\"\n",
       "       width=\"24px\">\n",
       "    <path d=\"M0 0h24v24H0V0z\" fill=\"none\"/>\n",
       "    <path d=\"M18.56 5.44l.94 2.06.94-2.06 2.06-.94-2.06-.94-.94-2.06-.94 2.06-2.06.94zm-11 1L8.5 8.5l.94-2.06 2.06-.94-2.06-.94L8.5 2.5l-.94 2.06-2.06.94zm10 10l.94 2.06.94-2.06 2.06-.94-2.06-.94-.94-2.06-.94 2.06-2.06.94z\"/><path d=\"M17.41 7.96l-1.37-1.37c-.4-.4-.92-.59-1.43-.59-.52 0-1.04.2-1.43.59L10.3 9.45l-7.72 7.72c-.78.78-.78 2.05 0 2.83L4 21.41c.39.39.9.59 1.41.59.51 0 1.02-.2 1.41-.59l7.78-7.78 2.81-2.81c.8-.78.8-2.07 0-2.86zM5.41 20L4 18.59l7.72-7.72 1.47 1.35L5.41 20z\"/>\n",
       "  </svg>\n",
       "      </button>\n",
       "      \n",
       "  <style>\n",
       "    .colab-df-container {\n",
       "      display:flex;\n",
       "      flex-wrap:wrap;\n",
       "      gap: 12px;\n",
       "    }\n",
       "\n",
       "    .colab-df-convert {\n",
       "      background-color: #E8F0FE;\n",
       "      border: none;\n",
       "      border-radius: 50%;\n",
       "      cursor: pointer;\n",
       "      display: none;\n",
       "      fill: #1967D2;\n",
       "      height: 32px;\n",
       "      padding: 0 0 0 0;\n",
       "      width: 32px;\n",
       "    }\n",
       "\n",
       "    .colab-df-convert:hover {\n",
       "      background-color: #E2EBFA;\n",
       "      box-shadow: 0px 1px 2px rgba(60, 64, 67, 0.3), 0px 1px 3px 1px rgba(60, 64, 67, 0.15);\n",
       "      fill: #174EA6;\n",
       "    }\n",
       "\n",
       "    [theme=dark] .colab-df-convert {\n",
       "      background-color: #3B4455;\n",
       "      fill: #D2E3FC;\n",
       "    }\n",
       "\n",
       "    [theme=dark] .colab-df-convert:hover {\n",
       "      background-color: #434B5C;\n",
       "      box-shadow: 0px 1px 3px 1px rgba(0, 0, 0, 0.15);\n",
       "      filter: drop-shadow(0px 1px 2px rgba(0, 0, 0, 0.3));\n",
       "      fill: #FFFFFF;\n",
       "    }\n",
       "  </style>\n",
       "\n",
       "      <script>\n",
       "        const buttonEl =\n",
       "          document.querySelector('#df-d0737ad4-4f74-4805-be6a-b9eb883d4679 button.colab-df-convert');\n",
       "        buttonEl.style.display =\n",
       "          google.colab.kernel.accessAllowed ? 'block' : 'none';\n",
       "\n",
       "        async function convertToInteractive(key) {\n",
       "          const element = document.querySelector('#df-d0737ad4-4f74-4805-be6a-b9eb883d4679');\n",
       "          const dataTable =\n",
       "            await google.colab.kernel.invokeFunction('convertToInteractive',\n",
       "                                                     [key], {});\n",
       "          if (!dataTable) return;\n",
       "\n",
       "          const docLinkHtml = 'Like what you see? Visit the ' +\n",
       "            '<a target=\"_blank\" href=https://colab.research.google.com/notebooks/data_table.ipynb>data table notebook</a>'\n",
       "            + ' to learn more about interactive tables.';\n",
       "          element.innerHTML = '';\n",
       "          dataTable['output_type'] = 'display_data';\n",
       "          await google.colab.output.renderOutput(dataTable, element);\n",
       "          const docLink = document.createElement('div');\n",
       "          docLink.innerHTML = docLinkHtml;\n",
       "          element.appendChild(docLink);\n",
       "        }\n",
       "      </script>\n",
       "    </div>\n",
       "  </div>\n",
       "  "
      ],
      "text/plain": [
       "  column  ratio\n",
       "3  price   3540\n",
       "1  depth   2545\n",
       "0  carat   1889\n",
       "2  table    605\n",
       "6      z     49\n",
       "4      x     32\n",
       "5      y     29"
      ]
     },
     "execution_count": 17,
     "metadata": {},
     "output_type": "execute_result"
    }
   ],
   "source": [
    "# 연속형 변수(carat,depth,table,price,x,y,z) 각각의 이상치(1,3분위값에서 IQR*1.5 외의 값) 갯수를\n",
    "# 데이터 프레임(변수명 ratio_df, 비율의 내림차순 정렬)으로 아래와 같이 나타내어라.\n",
    "\n",
    "cols = ['carat','depth','table','price','x','y','z']\n",
    "values = []\n",
    "for col in cols:\n",
    "  iqr = np.percentile(df[col], 75) - np.percentile(df[col], 25)\n",
    "  value = len(df[df[col] > (iqr*1.5 + np.percentile(df[col], 75))]) + len(df[df[col] < (np.percentile(df[col], 25) - iqr*1.5)])\n",
    "  values.append(value)\n",
    "\n",
    "pd.DataFrame({'column':cols,\t'ratio':values}).sort_values(by='ratio', ascending=False)\n"
   ]
  },
  {
   "cell_type": "code",
   "execution_count": 18,
   "metadata": {
    "colab": {
     "base_uri": "https://localhost:8080/",
     "height": 300
    },
    "id": "gRPEvy1YM52w",
    "outputId": "3913ceb5-58d7-44ca-9a17-bd8a11472cff"
   },
   "outputs": [
    {
     "data": {
      "text/html": [
       "\n",
       "  <div id=\"df-02eaad9a-9bea-4517-a05d-60a7251bc57c\">\n",
       "    <div class=\"colab-df-container\">\n",
       "      <div>\n",
       "<style scoped>\n",
       "    .dataframe tbody tr th:only-of-type {\n",
       "        vertical-align: middle;\n",
       "    }\n",
       "\n",
       "    .dataframe tbody tr th {\n",
       "        vertical-align: top;\n",
       "    }\n",
       "\n",
       "    .dataframe thead th {\n",
       "        text-align: right;\n",
       "    }\n",
       "</style>\n",
       "<table border=\"1\" class=\"dataframe\">\n",
       "  <thead>\n",
       "    <tr style=\"text-align: right;\">\n",
       "      <th></th>\n",
       "      <th>max</th>\n",
       "      <th>min</th>\n",
       "      <th>mean</th>\n",
       "    </tr>\n",
       "    <tr>\n",
       "      <th>color</th>\n",
       "      <th></th>\n",
       "      <th></th>\n",
       "      <th></th>\n",
       "    </tr>\n",
       "  </thead>\n",
       "  <tbody>\n",
       "    <tr>\n",
       "      <th>D</th>\n",
       "      <td>18693</td>\n",
       "      <td>357</td>\n",
       "      <td>3169.954096</td>\n",
       "    </tr>\n",
       "    <tr>\n",
       "      <th>E</th>\n",
       "      <td>18731</td>\n",
       "      <td>326</td>\n",
       "      <td>3076.752475</td>\n",
       "    </tr>\n",
       "    <tr>\n",
       "      <th>F</th>\n",
       "      <td>18791</td>\n",
       "      <td>342</td>\n",
       "      <td>3724.886397</td>\n",
       "    </tr>\n",
       "    <tr>\n",
       "      <th>G</th>\n",
       "      <td>18818</td>\n",
       "      <td>354</td>\n",
       "      <td>3999.135671</td>\n",
       "    </tr>\n",
       "    <tr>\n",
       "      <th>H</th>\n",
       "      <td>18803</td>\n",
       "      <td>337</td>\n",
       "      <td>4486.669196</td>\n",
       "    </tr>\n",
       "    <tr>\n",
       "      <th>I</th>\n",
       "      <td>18823</td>\n",
       "      <td>334</td>\n",
       "      <td>5091.874954</td>\n",
       "    </tr>\n",
       "    <tr>\n",
       "      <th>J</th>\n",
       "      <td>18710</td>\n",
       "      <td>335</td>\n",
       "      <td>5323.818020</td>\n",
       "    </tr>\n",
       "  </tbody>\n",
       "</table>\n",
       "</div>\n",
       "      <button class=\"colab-df-convert\" onclick=\"convertToInteractive('df-02eaad9a-9bea-4517-a05d-60a7251bc57c')\"\n",
       "              title=\"Convert this dataframe to an interactive table.\"\n",
       "              style=\"display:none;\">\n",
       "        \n",
       "  <svg xmlns=\"http://www.w3.org/2000/svg\" height=\"24px\"viewBox=\"0 0 24 24\"\n",
       "       width=\"24px\">\n",
       "    <path d=\"M0 0h24v24H0V0z\" fill=\"none\"/>\n",
       "    <path d=\"M18.56 5.44l.94 2.06.94-2.06 2.06-.94-2.06-.94-.94-2.06-.94 2.06-2.06.94zm-11 1L8.5 8.5l.94-2.06 2.06-.94-2.06-.94L8.5 2.5l-.94 2.06-2.06.94zm10 10l.94 2.06.94-2.06 2.06-.94-2.06-.94-.94-2.06-.94 2.06-2.06.94z\"/><path d=\"M17.41 7.96l-1.37-1.37c-.4-.4-.92-.59-1.43-.59-.52 0-1.04.2-1.43.59L10.3 9.45l-7.72 7.72c-.78.78-.78 2.05 0 2.83L4 21.41c.39.39.9.59 1.41.59.51 0 1.02-.2 1.41-.59l7.78-7.78 2.81-2.81c.8-.78.8-2.07 0-2.86zM5.41 20L4 18.59l7.72-7.72 1.47 1.35L5.41 20z\"/>\n",
       "  </svg>\n",
       "      </button>\n",
       "      \n",
       "  <style>\n",
       "    .colab-df-container {\n",
       "      display:flex;\n",
       "      flex-wrap:wrap;\n",
       "      gap: 12px;\n",
       "    }\n",
       "\n",
       "    .colab-df-convert {\n",
       "      background-color: #E8F0FE;\n",
       "      border: none;\n",
       "      border-radius: 50%;\n",
       "      cursor: pointer;\n",
       "      display: none;\n",
       "      fill: #1967D2;\n",
       "      height: 32px;\n",
       "      padding: 0 0 0 0;\n",
       "      width: 32px;\n",
       "    }\n",
       "\n",
       "    .colab-df-convert:hover {\n",
       "      background-color: #E2EBFA;\n",
       "      box-shadow: 0px 1px 2px rgba(60, 64, 67, 0.3), 0px 1px 3px 1px rgba(60, 64, 67, 0.15);\n",
       "      fill: #174EA6;\n",
       "    }\n",
       "\n",
       "    [theme=dark] .colab-df-convert {\n",
       "      background-color: #3B4455;\n",
       "      fill: #D2E3FC;\n",
       "    }\n",
       "\n",
       "    [theme=dark] .colab-df-convert:hover {\n",
       "      background-color: #434B5C;\n",
       "      box-shadow: 0px 1px 3px 1px rgba(0, 0, 0, 0.15);\n",
       "      filter: drop-shadow(0px 1px 2px rgba(0, 0, 0, 0.3));\n",
       "      fill: #FFFFFF;\n",
       "    }\n",
       "  </style>\n",
       "\n",
       "      <script>\n",
       "        const buttonEl =\n",
       "          document.querySelector('#df-02eaad9a-9bea-4517-a05d-60a7251bc57c button.colab-df-convert');\n",
       "        buttonEl.style.display =\n",
       "          google.colab.kernel.accessAllowed ? 'block' : 'none';\n",
       "\n",
       "        async function convertToInteractive(key) {\n",
       "          const element = document.querySelector('#df-02eaad9a-9bea-4517-a05d-60a7251bc57c');\n",
       "          const dataTable =\n",
       "            await google.colab.kernel.invokeFunction('convertToInteractive',\n",
       "                                                     [key], {});\n",
       "          if (!dataTable) return;\n",
       "\n",
       "          const docLinkHtml = 'Like what you see? Visit the ' +\n",
       "            '<a target=\"_blank\" href=https://colab.research.google.com/notebooks/data_table.ipynb>data table notebook</a>'\n",
       "            + ' to learn more about interactive tables.';\n",
       "          element.innerHTML = '';\n",
       "          dataTable['output_type'] = 'display_data';\n",
       "          await google.colab.output.renderOutput(dataTable, element);\n",
       "          const docLink = document.createElement('div');\n",
       "          docLink.innerHTML = docLinkHtml;\n",
       "          element.appendChild(docLink);\n",
       "        }\n",
       "      </script>\n",
       "    </div>\n",
       "  </div>\n",
       "  "
      ],
      "text/plain": [
       "         max  min         mean\n",
       "color                         \n",
       "D      18693  357  3169.954096\n",
       "E      18731  326  3076.752475\n",
       "F      18791  342  3724.886397\n",
       "G      18818  354  3999.135671\n",
       "H      18803  337  4486.669196\n",
       "I      18823  334  5091.874954\n",
       "J      18710  335  5323.818020"
      ]
     },
     "execution_count": 18,
     "metadata": {},
     "output_type": "execute_result"
    }
   ],
   "source": [
    "# color에 따른 price의 max, min, 평균값을 colorDf 변수에 저장하고 아래와 같이 출력하는 코드를 작성하라\n",
    "\n",
    "df.groupby(['color'])['price'].agg(['max', 'min', 'mean'])"
   ]
  },
  {
   "cell_type": "code",
   "execution_count": 19,
   "metadata": {
    "colab": {
     "base_uri": "https://localhost:8080/",
     "height": 238
    },
    "id": "fOQedjeQti7R",
    "outputId": "42932ad3-db2a-4471-ad52-8950ce9bdebe"
   },
   "outputs": [
    {
     "data": {
      "text/html": [
       "\n",
       "  <div id=\"df-2219b5cf-149f-4df2-a13d-f77f680c5ef2\">\n",
       "    <div class=\"colab-df-container\">\n",
       "      <div>\n",
       "<style scoped>\n",
       "    .dataframe tbody tr th:only-of-type {\n",
       "        vertical-align: middle;\n",
       "    }\n",
       "\n",
       "    .dataframe tbody tr th {\n",
       "        vertical-align: top;\n",
       "    }\n",
       "\n",
       "    .dataframe thead th {\n",
       "        text-align: right;\n",
       "    }\n",
       "</style>\n",
       "<table border=\"1\" class=\"dataframe\">\n",
       "  <thead>\n",
       "    <tr style=\"text-align: right;\">\n",
       "      <th></th>\n",
       "      <th>colorLabel</th>\n",
       "    </tr>\n",
       "    <tr>\n",
       "      <th>cut</th>\n",
       "      <th></th>\n",
       "    </tr>\n",
       "  </thead>\n",
       "  <tbody>\n",
       "    <tr>\n",
       "      <th>Fair</th>\n",
       "      <td>4.516770</td>\n",
       "    </tr>\n",
       "    <tr>\n",
       "      <th>Good</th>\n",
       "      <td>4.562780</td>\n",
       "    </tr>\n",
       "    <tr>\n",
       "      <th>Ideal</th>\n",
       "      <td>4.769152</td>\n",
       "    </tr>\n",
       "    <tr>\n",
       "      <th>Premium</th>\n",
       "      <td>4.644913</td>\n",
       "    </tr>\n",
       "    <tr>\n",
       "      <th>Very Good</th>\n",
       "      <td>4.654362</td>\n",
       "    </tr>\n",
       "  </tbody>\n",
       "</table>\n",
       "</div>\n",
       "      <button class=\"colab-df-convert\" onclick=\"convertToInteractive('df-2219b5cf-149f-4df2-a13d-f77f680c5ef2')\"\n",
       "              title=\"Convert this dataframe to an interactive table.\"\n",
       "              style=\"display:none;\">\n",
       "        \n",
       "  <svg xmlns=\"http://www.w3.org/2000/svg\" height=\"24px\"viewBox=\"0 0 24 24\"\n",
       "       width=\"24px\">\n",
       "    <path d=\"M0 0h24v24H0V0z\" fill=\"none\"/>\n",
       "    <path d=\"M18.56 5.44l.94 2.06.94-2.06 2.06-.94-2.06-.94-.94-2.06-.94 2.06-2.06.94zm-11 1L8.5 8.5l.94-2.06 2.06-.94-2.06-.94L8.5 2.5l-.94 2.06-2.06.94zm10 10l.94 2.06.94-2.06 2.06-.94-2.06-.94-.94-2.06-.94 2.06-2.06.94z\"/><path d=\"M17.41 7.96l-1.37-1.37c-.4-.4-.92-.59-1.43-.59-.52 0-1.04.2-1.43.59L10.3 9.45l-7.72 7.72c-.78.78-.78 2.05 0 2.83L4 21.41c.39.39.9.59 1.41.59.51 0 1.02-.2 1.41-.59l7.78-7.78 2.81-2.81c.8-.78.8-2.07 0-2.86zM5.41 20L4 18.59l7.72-7.72 1.47 1.35L5.41 20z\"/>\n",
       "  </svg>\n",
       "      </button>\n",
       "      \n",
       "  <style>\n",
       "    .colab-df-container {\n",
       "      display:flex;\n",
       "      flex-wrap:wrap;\n",
       "      gap: 12px;\n",
       "    }\n",
       "\n",
       "    .colab-df-convert {\n",
       "      background-color: #E8F0FE;\n",
       "      border: none;\n",
       "      border-radius: 50%;\n",
       "      cursor: pointer;\n",
       "      display: none;\n",
       "      fill: #1967D2;\n",
       "      height: 32px;\n",
       "      padding: 0 0 0 0;\n",
       "      width: 32px;\n",
       "    }\n",
       "\n",
       "    .colab-df-convert:hover {\n",
       "      background-color: #E2EBFA;\n",
       "      box-shadow: 0px 1px 2px rgba(60, 64, 67, 0.3), 0px 1px 3px 1px rgba(60, 64, 67, 0.15);\n",
       "      fill: #174EA6;\n",
       "    }\n",
       "\n",
       "    [theme=dark] .colab-df-convert {\n",
       "      background-color: #3B4455;\n",
       "      fill: #D2E3FC;\n",
       "    }\n",
       "\n",
       "    [theme=dark] .colab-df-convert:hover {\n",
       "      background-color: #434B5C;\n",
       "      box-shadow: 0px 1px 3px 1px rgba(0, 0, 0, 0.15);\n",
       "      filter: drop-shadow(0px 1px 2px rgba(0, 0, 0, 0.3));\n",
       "      fill: #FFFFFF;\n",
       "    }\n",
       "  </style>\n",
       "\n",
       "      <script>\n",
       "        const buttonEl =\n",
       "          document.querySelector('#df-2219b5cf-149f-4df2-a13d-f77f680c5ef2 button.colab-df-convert');\n",
       "        buttonEl.style.display =\n",
       "          google.colab.kernel.accessAllowed ? 'block' : 'none';\n",
       "\n",
       "        async function convertToInteractive(key) {\n",
       "          const element = document.querySelector('#df-2219b5cf-149f-4df2-a13d-f77f680c5ef2');\n",
       "          const dataTable =\n",
       "            await google.colab.kernel.invokeFunction('convertToInteractive',\n",
       "                                                     [key], {});\n",
       "          if (!dataTable) return;\n",
       "\n",
       "          const docLinkHtml = 'Like what you see? Visit the ' +\n",
       "            '<a target=\"_blank\" href=https://colab.research.google.com/notebooks/data_table.ipynb>data table notebook</a>'\n",
       "            + ' to learn more about interactive tables.';\n",
       "          element.innerHTML = '';\n",
       "          dataTable['output_type'] = 'display_data';\n",
       "          await google.colab.output.renderOutput(dataTable, element);\n",
       "          const docLink = document.createElement('div');\n",
       "          docLink.innerHTML = docLinkHtml;\n",
       "          element.appendChild(docLink);\n",
       "        }\n",
       "      </script>\n",
       "    </div>\n",
       "  </div>\n",
       "  "
      ],
      "text/plain": [
       "           colorLabel\n",
       "cut                  \n",
       "Fair         4.516770\n",
       "Good         4.562780\n",
       "Ideal        4.769152\n",
       "Premium      4.644913\n",
       "Very Good    4.654362"
      ]
     },
     "execution_count": 19,
     "metadata": {},
     "output_type": "execute_result"
    }
   ],
   "source": [
    "# 전체 데이터중 color의 발생빈도수에 따라 labelEncoding (빈도수 적은것 : 1, 빈도수 증가할수록 1씩증가)을 하고\n",
    "# colorLabel 컬럼에 저장하고 cut에 따른 colorLabel의 평균값을 구하여라\n",
    "\n",
    "df['color'].value_counts()\n",
    "label_dic = {'G':7, 'E':6, 'F':5, 'H':4, 'D':3, 'I':2, 'J':1}\n",
    "df['colorLabel'] = df['color'].map(label_dic)\n",
    "pd.DataFrame(df.groupby(['cut'])['colorLabel'].mean())"
   ]
  },
  {
   "cell_type": "code",
   "execution_count": 20,
   "metadata": {
    "colab": {
     "base_uri": "https://localhost:8080/",
     "height": 645
    },
    "id": "wYSz507kweb2",
    "outputId": "4b421dd3-7e6f-44ba-dd81-0c08ee9f0653"
   },
   "outputs": [
    {
     "data": {
      "text/html": [
       "\n",
       "  <div id=\"df-e5248522-5953-48a3-bcad-1ad1e6a6d54e\">\n",
       "    <div class=\"colab-df-container\">\n",
       "      <div>\n",
       "<style scoped>\n",
       "    .dataframe tbody tr th:only-of-type {\n",
       "        vertical-align: middle;\n",
       "    }\n",
       "\n",
       "    .dataframe tbody tr th {\n",
       "        vertical-align: top;\n",
       "    }\n",
       "\n",
       "    .dataframe thead th {\n",
       "        text-align: right;\n",
       "    }\n",
       "</style>\n",
       "<table border=\"1\" class=\"dataframe\">\n",
       "  <thead>\n",
       "    <tr style=\"text-align: right;\">\n",
       "      <th></th>\n",
       "      <th>priceLabel</th>\n",
       "    </tr>\n",
       "  </thead>\n",
       "  <tbody>\n",
       "    <tr>\n",
       "      <th>0</th>\n",
       "      <td>14499</td>\n",
       "    </tr>\n",
       "    <tr>\n",
       "      <th>1</th>\n",
       "      <td>9704</td>\n",
       "    </tr>\n",
       "    <tr>\n",
       "      <th>2</th>\n",
       "      <td>6131</td>\n",
       "    </tr>\n",
       "    <tr>\n",
       "      <th>4</th>\n",
       "      <td>4653</td>\n",
       "    </tr>\n",
       "    <tr>\n",
       "      <th>3</th>\n",
       "      <td>4226</td>\n",
       "    </tr>\n",
       "    <tr>\n",
       "      <th>5</th>\n",
       "      <td>3174</td>\n",
       "    </tr>\n",
       "    <tr>\n",
       "      <th>6</th>\n",
       "      <td>2278</td>\n",
       "    </tr>\n",
       "    <tr>\n",
       "      <th>7</th>\n",
       "      <td>1669</td>\n",
       "    </tr>\n",
       "    <tr>\n",
       "      <th>8</th>\n",
       "      <td>1307</td>\n",
       "    </tr>\n",
       "    <tr>\n",
       "      <th>9</th>\n",
       "      <td>1076</td>\n",
       "    </tr>\n",
       "    <tr>\n",
       "      <th>10</th>\n",
       "      <td>935</td>\n",
       "    </tr>\n",
       "    <tr>\n",
       "      <th>11</th>\n",
       "      <td>824</td>\n",
       "    </tr>\n",
       "    <tr>\n",
       "      <th>12</th>\n",
       "      <td>702</td>\n",
       "    </tr>\n",
       "    <tr>\n",
       "      <th>13</th>\n",
       "      <td>603</td>\n",
       "    </tr>\n",
       "    <tr>\n",
       "      <th>15</th>\n",
       "      <td>514</td>\n",
       "    </tr>\n",
       "    <tr>\n",
       "      <th>14</th>\n",
       "      <td>503</td>\n",
       "    </tr>\n",
       "    <tr>\n",
       "      <th>16</th>\n",
       "      <td>424</td>\n",
       "    </tr>\n",
       "    <tr>\n",
       "      <th>17</th>\n",
       "      <td>406</td>\n",
       "    </tr>\n",
       "    <tr>\n",
       "      <th>18</th>\n",
       "      <td>312</td>\n",
       "    </tr>\n",
       "  </tbody>\n",
       "</table>\n",
       "</div>\n",
       "      <button class=\"colab-df-convert\" onclick=\"convertToInteractive('df-e5248522-5953-48a3-bcad-1ad1e6a6d54e')\"\n",
       "              title=\"Convert this dataframe to an interactive table.\"\n",
       "              style=\"display:none;\">\n",
       "        \n",
       "  <svg xmlns=\"http://www.w3.org/2000/svg\" height=\"24px\"viewBox=\"0 0 24 24\"\n",
       "       width=\"24px\">\n",
       "    <path d=\"M0 0h24v24H0V0z\" fill=\"none\"/>\n",
       "    <path d=\"M18.56 5.44l.94 2.06.94-2.06 2.06-.94-2.06-.94-.94-2.06-.94 2.06-2.06.94zm-11 1L8.5 8.5l.94-2.06 2.06-.94-2.06-.94L8.5 2.5l-.94 2.06-2.06.94zm10 10l.94 2.06.94-2.06 2.06-.94-2.06-.94-.94-2.06-.94 2.06-2.06.94z\"/><path d=\"M17.41 7.96l-1.37-1.37c-.4-.4-.92-.59-1.43-.59-.52 0-1.04.2-1.43.59L10.3 9.45l-7.72 7.72c-.78.78-.78 2.05 0 2.83L4 21.41c.39.39.9.59 1.41.59.51 0 1.02-.2 1.41-.59l7.78-7.78 2.81-2.81c.8-.78.8-2.07 0-2.86zM5.41 20L4 18.59l7.72-7.72 1.47 1.35L5.41 20z\"/>\n",
       "  </svg>\n",
       "      </button>\n",
       "      \n",
       "  <style>\n",
       "    .colab-df-container {\n",
       "      display:flex;\n",
       "      flex-wrap:wrap;\n",
       "      gap: 12px;\n",
       "    }\n",
       "\n",
       "    .colab-df-convert {\n",
       "      background-color: #E8F0FE;\n",
       "      border: none;\n",
       "      border-radius: 50%;\n",
       "      cursor: pointer;\n",
       "      display: none;\n",
       "      fill: #1967D2;\n",
       "      height: 32px;\n",
       "      padding: 0 0 0 0;\n",
       "      width: 32px;\n",
       "    }\n",
       "\n",
       "    .colab-df-convert:hover {\n",
       "      background-color: #E2EBFA;\n",
       "      box-shadow: 0px 1px 2px rgba(60, 64, 67, 0.3), 0px 1px 3px 1px rgba(60, 64, 67, 0.15);\n",
       "      fill: #174EA6;\n",
       "    }\n",
       "\n",
       "    [theme=dark] .colab-df-convert {\n",
       "      background-color: #3B4455;\n",
       "      fill: #D2E3FC;\n",
       "    }\n",
       "\n",
       "    [theme=dark] .colab-df-convert:hover {\n",
       "      background-color: #434B5C;\n",
       "      box-shadow: 0px 1px 3px 1px rgba(0, 0, 0, 0.15);\n",
       "      filter: drop-shadow(0px 1px 2px rgba(0, 0, 0, 0.3));\n",
       "      fill: #FFFFFF;\n",
       "    }\n",
       "  </style>\n",
       "\n",
       "      <script>\n",
       "        const buttonEl =\n",
       "          document.querySelector('#df-e5248522-5953-48a3-bcad-1ad1e6a6d54e button.colab-df-convert');\n",
       "        buttonEl.style.display =\n",
       "          google.colab.kernel.accessAllowed ? 'block' : 'none';\n",
       "\n",
       "        async function convertToInteractive(key) {\n",
       "          const element = document.querySelector('#df-e5248522-5953-48a3-bcad-1ad1e6a6d54e');\n",
       "          const dataTable =\n",
       "            await google.colab.kernel.invokeFunction('convertToInteractive',\n",
       "                                                     [key], {});\n",
       "          if (!dataTable) return;\n",
       "\n",
       "          const docLinkHtml = 'Like what you see? Visit the ' +\n",
       "            '<a target=\"_blank\" href=https://colab.research.google.com/notebooks/data_table.ipynb>data table notebook</a>'\n",
       "            + ' to learn more about interactive tables.';\n",
       "          element.innerHTML = '';\n",
       "          dataTable['output_type'] = 'display_data';\n",
       "          await google.colab.output.renderOutput(dataTable, element);\n",
       "          const docLink = document.createElement('div');\n",
       "          docLink.innerHTML = docLinkHtml;\n",
       "          element.appendChild(docLink);\n",
       "        }\n",
       "      </script>\n",
       "    </div>\n",
       "  </div>\n",
       "  "
      ],
      "text/plain": [
       "    priceLabel\n",
       "0        14499\n",
       "1         9704\n",
       "2         6131\n",
       "4         4653\n",
       "3         4226\n",
       "5         3174\n",
       "6         2278\n",
       "7         1669\n",
       "8         1307\n",
       "9         1076\n",
       "10         935\n",
       "11         824\n",
       "12         702\n",
       "13         603\n",
       "15         514\n",
       "14         503\n",
       "16         424\n",
       "17         406\n",
       "18         312"
      ]
     },
     "execution_count": 20,
     "metadata": {},
     "output_type": "execute_result"
    }
   ],
   "source": [
    "# price의 값에 따른 구간을 1000단위로 나누고 priceLabel 컬럼에 저장하라.\n",
    "# 저장시 숫자 순으로 label하고(0~1000이하 : 0,1000초과~2000미만 :1 …)\n",
    "# 최종적으로 구간별 갯수(변수명:labelCount)를 출력하라\n",
    "\n",
    "df['priceLabel'] = df['price']//1000\n",
    "pd.DataFrame(df['priceLabel'].value_counts())"
   ]
  },
  {
   "cell_type": "markdown",
   "metadata": {
    "id": "8M7lOzK3E4UC"
   },
   "source": [
    "## [군집분석] 백화점 DB - 출제빈도 낮음\n",
    " - https://blog.naver.com/ostin1038/222383120717"
   ]
  },
  {
   "cell_type": "code",
   "execution_count": 32,
   "metadata": {
    "colab": {
     "base_uri": "https://localhost:8080/",
     "height": 424
    },
    "id": "Sp7ewdpfDODq",
    "outputId": "1c14c0d5-e2e8-4aa2-fc80-78f786a0f6c0"
   },
   "outputs": [
    {
     "data": {
      "text/html": [
       "\n",
       "  <div id=\"df-163c1b9e-e021-43dc-a72a-5f09c25ab7a3\">\n",
       "    <div class=\"colab-df-container\">\n",
       "      <div>\n",
       "<style scoped>\n",
       "    .dataframe tbody tr th:only-of-type {\n",
       "        vertical-align: middle;\n",
       "    }\n",
       "\n",
       "    .dataframe tbody tr th {\n",
       "        vertical-align: top;\n",
       "    }\n",
       "\n",
       "    .dataframe thead th {\n",
       "        text-align: right;\n",
       "    }\n",
       "</style>\n",
       "<table border=\"1\" class=\"dataframe\">\n",
       "  <thead>\n",
       "    <tr style=\"text-align: right;\">\n",
       "      <th></th>\n",
       "      <th>cust_id</th>\n",
       "      <th>총구매액</th>\n",
       "      <th>최대구매액</th>\n",
       "      <th>환불금액</th>\n",
       "      <th>주구매상품</th>\n",
       "      <th>주구매지점</th>\n",
       "      <th>내점일수</th>\n",
       "      <th>내점당구매건수</th>\n",
       "      <th>주말방문비율</th>\n",
       "      <th>구매주기</th>\n",
       "      <th>cust_id</th>\n",
       "      <th>gender</th>\n",
       "    </tr>\n",
       "  </thead>\n",
       "  <tbody>\n",
       "    <tr>\n",
       "      <th>0</th>\n",
       "      <td>0</td>\n",
       "      <td>68282840</td>\n",
       "      <td>11264000</td>\n",
       "      <td>6860000.0</td>\n",
       "      <td>기타</td>\n",
       "      <td>강남점</td>\n",
       "      <td>19</td>\n",
       "      <td>3.894737</td>\n",
       "      <td>0.527027</td>\n",
       "      <td>17</td>\n",
       "      <td>0</td>\n",
       "      <td>0</td>\n",
       "    </tr>\n",
       "    <tr>\n",
       "      <th>1</th>\n",
       "      <td>1</td>\n",
       "      <td>2136000</td>\n",
       "      <td>2136000</td>\n",
       "      <td>300000.0</td>\n",
       "      <td>스포츠</td>\n",
       "      <td>잠실점</td>\n",
       "      <td>2</td>\n",
       "      <td>1.500000</td>\n",
       "      <td>0.000000</td>\n",
       "      <td>1</td>\n",
       "      <td>1</td>\n",
       "      <td>0</td>\n",
       "    </tr>\n",
       "    <tr>\n",
       "      <th>2</th>\n",
       "      <td>2</td>\n",
       "      <td>3197000</td>\n",
       "      <td>1639000</td>\n",
       "      <td>NaN</td>\n",
       "      <td>남성 캐주얼</td>\n",
       "      <td>관악점</td>\n",
       "      <td>2</td>\n",
       "      <td>2.000000</td>\n",
       "      <td>0.000000</td>\n",
       "      <td>1</td>\n",
       "      <td>2</td>\n",
       "      <td>1</td>\n",
       "    </tr>\n",
       "    <tr>\n",
       "      <th>3</th>\n",
       "      <td>3</td>\n",
       "      <td>16077620</td>\n",
       "      <td>4935000</td>\n",
       "      <td>NaN</td>\n",
       "      <td>기타</td>\n",
       "      <td>광주점</td>\n",
       "      <td>18</td>\n",
       "      <td>2.444444</td>\n",
       "      <td>0.318182</td>\n",
       "      <td>16</td>\n",
       "      <td>3</td>\n",
       "      <td>1</td>\n",
       "    </tr>\n",
       "    <tr>\n",
       "      <th>4</th>\n",
       "      <td>4</td>\n",
       "      <td>29050000</td>\n",
       "      <td>24000000</td>\n",
       "      <td>NaN</td>\n",
       "      <td>보석</td>\n",
       "      <td>본  점</td>\n",
       "      <td>2</td>\n",
       "      <td>1.500000</td>\n",
       "      <td>0.000000</td>\n",
       "      <td>85</td>\n",
       "      <td>4</td>\n",
       "      <td>0</td>\n",
       "    </tr>\n",
       "    <tr>\n",
       "      <th>...</th>\n",
       "      <td>...</td>\n",
       "      <td>...</td>\n",
       "      <td>...</td>\n",
       "      <td>...</td>\n",
       "      <td>...</td>\n",
       "      <td>...</td>\n",
       "      <td>...</td>\n",
       "      <td>...</td>\n",
       "      <td>...</td>\n",
       "      <td>...</td>\n",
       "      <td>...</td>\n",
       "      <td>...</td>\n",
       "    </tr>\n",
       "    <tr>\n",
       "      <th>3495</th>\n",
       "      <td>3495</td>\n",
       "      <td>3175200</td>\n",
       "      <td>3042900</td>\n",
       "      <td>NaN</td>\n",
       "      <td>골프</td>\n",
       "      <td>본  점</td>\n",
       "      <td>1</td>\n",
       "      <td>2.000000</td>\n",
       "      <td>1.000000</td>\n",
       "      <td>0</td>\n",
       "      <td>3495</td>\n",
       "      <td>1</td>\n",
       "    </tr>\n",
       "    <tr>\n",
       "      <th>3496</th>\n",
       "      <td>3496</td>\n",
       "      <td>29628600</td>\n",
       "      <td>7200000</td>\n",
       "      <td>6049600.0</td>\n",
       "      <td>시티웨어</td>\n",
       "      <td>부산본점</td>\n",
       "      <td>8</td>\n",
       "      <td>1.625000</td>\n",
       "      <td>0.461538</td>\n",
       "      <td>40</td>\n",
       "      <td>3496</td>\n",
       "      <td>1</td>\n",
       "    </tr>\n",
       "    <tr>\n",
       "      <th>3497</th>\n",
       "      <td>3497</td>\n",
       "      <td>75000</td>\n",
       "      <td>75000</td>\n",
       "      <td>NaN</td>\n",
       "      <td>주방용품</td>\n",
       "      <td>창원점</td>\n",
       "      <td>1</td>\n",
       "      <td>1.000000</td>\n",
       "      <td>0.000000</td>\n",
       "      <td>0</td>\n",
       "      <td>3497</td>\n",
       "      <td>0</td>\n",
       "    </tr>\n",
       "    <tr>\n",
       "      <th>3498</th>\n",
       "      <td>3498</td>\n",
       "      <td>1875000</td>\n",
       "      <td>1000000</td>\n",
       "      <td>NaN</td>\n",
       "      <td>화장품</td>\n",
       "      <td>본  점</td>\n",
       "      <td>2</td>\n",
       "      <td>1.000000</td>\n",
       "      <td>0.000000</td>\n",
       "      <td>39</td>\n",
       "      <td>3498</td>\n",
       "      <td>0</td>\n",
       "    </tr>\n",
       "    <tr>\n",
       "      <th>3499</th>\n",
       "      <td>3499</td>\n",
       "      <td>263101550</td>\n",
       "      <td>34632000</td>\n",
       "      <td>5973000.0</td>\n",
       "      <td>기타</td>\n",
       "      <td>본  점</td>\n",
       "      <td>38</td>\n",
       "      <td>2.421053</td>\n",
       "      <td>0.467391</td>\n",
       "      <td>8</td>\n",
       "      <td>3499</td>\n",
       "      <td>0</td>\n",
       "    </tr>\n",
       "  </tbody>\n",
       "</table>\n",
       "<p>3500 rows × 12 columns</p>\n",
       "</div>\n",
       "      <button class=\"colab-df-convert\" onclick=\"convertToInteractive('df-163c1b9e-e021-43dc-a72a-5f09c25ab7a3')\"\n",
       "              title=\"Convert this dataframe to an interactive table.\"\n",
       "              style=\"display:none;\">\n",
       "        \n",
       "  <svg xmlns=\"http://www.w3.org/2000/svg\" height=\"24px\"viewBox=\"0 0 24 24\"\n",
       "       width=\"24px\">\n",
       "    <path d=\"M0 0h24v24H0V0z\" fill=\"none\"/>\n",
       "    <path d=\"M18.56 5.44l.94 2.06.94-2.06 2.06-.94-2.06-.94-.94-2.06-.94 2.06-2.06.94zm-11 1L8.5 8.5l.94-2.06 2.06-.94-2.06-.94L8.5 2.5l-.94 2.06-2.06.94zm10 10l.94 2.06.94-2.06 2.06-.94-2.06-.94-.94-2.06-.94 2.06-2.06.94z\"/><path d=\"M17.41 7.96l-1.37-1.37c-.4-.4-.92-.59-1.43-.59-.52 0-1.04.2-1.43.59L10.3 9.45l-7.72 7.72c-.78.78-.78 2.05 0 2.83L4 21.41c.39.39.9.59 1.41.59.51 0 1.02-.2 1.41-.59l7.78-7.78 2.81-2.81c.8-.78.8-2.07 0-2.86zM5.41 20L4 18.59l7.72-7.72 1.47 1.35L5.41 20z\"/>\n",
       "  </svg>\n",
       "      </button>\n",
       "      \n",
       "  <style>\n",
       "    .colab-df-container {\n",
       "      display:flex;\n",
       "      flex-wrap:wrap;\n",
       "      gap: 12px;\n",
       "    }\n",
       "\n",
       "    .colab-df-convert {\n",
       "      background-color: #E8F0FE;\n",
       "      border: none;\n",
       "      border-radius: 50%;\n",
       "      cursor: pointer;\n",
       "      display: none;\n",
       "      fill: #1967D2;\n",
       "      height: 32px;\n",
       "      padding: 0 0 0 0;\n",
       "      width: 32px;\n",
       "    }\n",
       "\n",
       "    .colab-df-convert:hover {\n",
       "      background-color: #E2EBFA;\n",
       "      box-shadow: 0px 1px 2px rgba(60, 64, 67, 0.3), 0px 1px 3px 1px rgba(60, 64, 67, 0.15);\n",
       "      fill: #174EA6;\n",
       "    }\n",
       "\n",
       "    [theme=dark] .colab-df-convert {\n",
       "      background-color: #3B4455;\n",
       "      fill: #D2E3FC;\n",
       "    }\n",
       "\n",
       "    [theme=dark] .colab-df-convert:hover {\n",
       "      background-color: #434B5C;\n",
       "      box-shadow: 0px 1px 3px 1px rgba(0, 0, 0, 0.15);\n",
       "      filter: drop-shadow(0px 1px 2px rgba(0, 0, 0, 0.3));\n",
       "      fill: #FFFFFF;\n",
       "    }\n",
       "  </style>\n",
       "\n",
       "      <script>\n",
       "        const buttonEl =\n",
       "          document.querySelector('#df-163c1b9e-e021-43dc-a72a-5f09c25ab7a3 button.colab-df-convert');\n",
       "        buttonEl.style.display =\n",
       "          google.colab.kernel.accessAllowed ? 'block' : 'none';\n",
       "\n",
       "        async function convertToInteractive(key) {\n",
       "          const element = document.querySelector('#df-163c1b9e-e021-43dc-a72a-5f09c25ab7a3');\n",
       "          const dataTable =\n",
       "            await google.colab.kernel.invokeFunction('convertToInteractive',\n",
       "                                                     [key], {});\n",
       "          if (!dataTable) return;\n",
       "\n",
       "          const docLinkHtml = 'Like what you see? Visit the ' +\n",
       "            '<a target=\"_blank\" href=https://colab.research.google.com/notebooks/data_table.ipynb>data table notebook</a>'\n",
       "            + ' to learn more about interactive tables.';\n",
       "          element.innerHTML = '';\n",
       "          dataTable['output_type'] = 'display_data';\n",
       "          await google.colab.output.renderOutput(dataTable, element);\n",
       "          const docLink = document.createElement('div');\n",
       "          docLink.innerHTML = docLinkHtml;\n",
       "          element.appendChild(docLink);\n",
       "        }\n",
       "      </script>\n",
       "    </div>\n",
       "  </div>\n",
       "  "
      ],
      "text/plain": [
       "      cust_id       총구매액     최대구매액       환불금액   주구매상품 주구매지점  내점일수   내점당구매건수  \\\n",
       "0           0   68282840  11264000  6860000.0      기타   강남점    19  3.894737   \n",
       "1           1    2136000   2136000   300000.0     스포츠   잠실점     2  1.500000   \n",
       "2           2    3197000   1639000        NaN  남성 캐주얼   관악점     2  2.000000   \n",
       "3           3   16077620   4935000        NaN      기타   광주점    18  2.444444   \n",
       "4           4   29050000  24000000        NaN      보석  본  점     2  1.500000   \n",
       "...       ...        ...       ...        ...     ...   ...   ...       ...   \n",
       "3495     3495    3175200   3042900        NaN      골프  본  점     1  2.000000   \n",
       "3496     3496   29628600   7200000  6049600.0    시티웨어  부산본점     8  1.625000   \n",
       "3497     3497      75000     75000        NaN    주방용품   창원점     1  1.000000   \n",
       "3498     3498    1875000   1000000        NaN     화장품  본  점     2  1.000000   \n",
       "3499     3499  263101550  34632000  5973000.0      기타  본  점    38  2.421053   \n",
       "\n",
       "        주말방문비율  구매주기  cust_id  gender  \n",
       "0     0.527027    17        0       0  \n",
       "1     0.000000     1        1       0  \n",
       "2     0.000000     1        2       1  \n",
       "3     0.318182    16        3       1  \n",
       "4     0.000000    85        4       0  \n",
       "...        ...   ...      ...     ...  \n",
       "3495  1.000000     0     3495       1  \n",
       "3496  0.461538    40     3496       1  \n",
       "3497  0.000000     0     3497       0  \n",
       "3498  0.000000    39     3498       0  \n",
       "3499  0.467391     8     3499       0  \n",
       "\n",
       "[3500 rows x 12 columns]"
      ]
     },
     "execution_count": 32,
     "metadata": {},
     "output_type": "execute_result"
    }
   ],
   "source": [
    "import pandas as pd\n",
    "y_train = pd.read_csv('https://raw.githubusercontent.com/Datamanim/dataq/main/y_train.csv')\n",
    "X_train = pd.read_csv('https://raw.githubusercontent.com/Datamanim/dataq/main/X_train.csv', encoding='euc-kr')\n",
    "\n",
    "df = pd.concat([X_train, y_train], axis=1)\n",
    "df"
   ]
  },
  {
   "cell_type": "markdown",
   "metadata": {
    "id": "XnLqll40Ffnn"
   },
   "source": [
    "문제1:  고객의 주 구매지점을 서울 지점과 비서울 지점을 집단으로 구분해 서울 지점과 비 지점간의 고객의 '평균 구매금액'을 대조해 보고자 한다. \n",
    "이를 위해 주구매지점 중 하단의 8개 지점은 서울 지점, 나머지 지점은 비서울 지점으로 구분하는 변수를 추가한다(서울=1, 비서울=0) \n",
    "\n",
    "서울 8개 지점: 본 점, 잠실점, 강남점, 노원점, 청량리점, 미아점, 관악점, 영등포점 \n",
    "\n",
    "평균구매금액 공식은 다음과 같으며 비서울 지점 대비 \n",
    "\n",
    "서울지점 집단평균구매금액 평균비를 소수 둘째자리까지 구하시오(셋째자리 버림) \n",
    "\n",
    "'평균구매금액' = '총구매액' / '내점일수'"
   ]
  },
  {
   "cell_type": "code",
   "execution_count": 33,
   "metadata": {
    "colab": {
     "base_uri": "https://localhost:8080/"
    },
    "id": "0TNJ0J8QFQp7",
    "outputId": "211969c2-c98c-4254-f2d8-430593714d3f"
   },
   "outputs": [
    {
     "data": {
      "text/plain": [
       "0.8663055743726116"
      ]
     },
     "execution_count": 33,
     "metadata": {},
     "output_type": "execute_result"
    }
   ],
   "source": [
    "stores = ['본 점', '잠실점', '강남점', '노원점', '청량리점', '미아점', '관악점', '영등포점']\n",
    "df['서울'] = 0\n",
    "df.loc[df['주구매지점'].isin(stores), '서울'] = 1\n",
    "df['평균구매금액'] = df['총구매액']/df['내점일수']\n",
    "\n",
    "s = df[df['서울'] == 1]\n",
    "n = df[df['서울'] == 0]\n",
    "\n",
    "s['평균구매금액'].mean()/n['평균구매금액'].mean()\n"
   ]
  },
  {
   "cell_type": "markdown",
   "metadata": {
    "id": "GwwNPZxhJcKx"
   },
   "source": [
    "문제2: 문제1에서 추가한 합성변수 '평균구매금액'와 '총구매액', '최대구매액', '환불금액', '내점일수', '주말방문비율', '구매주기' 7가지 변수를 바탕으로 새로운 데이터셋을 만들고 결측치가 있는 DB는 0으로 채운다. \n",
    "\n",
    "다음 StandardScaler 방식으로 표준화를 진행한다. \n",
    "\n",
    "표준화를 진행한 '평균구매금액'과 '총구매액' 변수 둘다 양의 정수의 조건을 충족하는 레코드개수의 수를 구하시오"
   ]
  },
  {
   "cell_type": "code",
   "execution_count": 34,
   "metadata": {
    "colab": {
     "base_uri": "https://localhost:8080/"
    },
    "id": "XRklvQXxJb2P",
    "outputId": "d171b921-7083-4aad-d24b-1037f52ac639"
   },
   "outputs": [
    {
     "data": {
      "text/plain": [
       "623"
      ]
     },
     "execution_count": 34,
     "metadata": {},
     "output_type": "execute_result"
    }
   ],
   "source": [
    "df1 = df[[ '평균구매금액','총구매액', '최대구매액', '환불금액', '내점일수', '주말방문비율', '구매주기' ]]\n",
    "df1.fillna(0, inplace=True)\n",
    "\n",
    "from sklearn.preprocessing import StandardScaler\n",
    "sc = StandardScaler()\n",
    "df2 = sc.fit_transform(df1)\n",
    "ans = pd.DataFrame(df2, columns=df1.columns)\n",
    "\n",
    "len(ans[(ans['평균구매금액']>0) & (ans['총구매액']>0)])"
   ]
  },
  {
   "cell_type": "markdown",
   "metadata": {
    "id": "vjSFLYLyLNaF"
   },
   "source": [
    "문제3: 문제2에서 진행한 표준화 데이터셋 변수 7가지를 바탕으로 주성분분석(PCA)를 진행한다.(sklearn decomposition PCA 라이브러리 활용)\n",
    "\n",
    "이때 세번째 주성분까지의 누적 분산 비율을 구하시오\n",
    "(소수 셋째자리 버림 둘째자리까지 구하시오)\n"
   ]
  },
  {
   "cell_type": "code",
   "execution_count": 35,
   "metadata": {
    "colab": {
     "base_uri": "https://localhost:8080/"
    },
    "id": "ITRueDlRKyDN",
    "outputId": "f937bd3b-b6be-4d8e-a5bd-385ef31f5c0b"
   },
   "outputs": [
    {
     "data": {
      "text/plain": [
       "0.7098680077486348"
      ]
     },
     "execution_count": 35,
     "metadata": {},
     "output_type": "execute_result"
    }
   ],
   "source": [
    "from sklearn.decomposition import PCA\n",
    "pca = PCA(n_components=5)\n",
    "pcafit = pca.fit_transform(ans)\n",
    "df3 = pd.DataFrame( pcafit, columns = ['com1', 'com2', 'com3', 'com4', 'com5'] )\n",
    "a = pca.explained_variance_ratio_\n",
    "a[0] + a[1] + a[2]"
   ]
  },
  {
   "cell_type": "markdown",
   "metadata": {
    "id": "r7z8nr-yNWPe"
   },
   "source": [
    "문제4: 문제3에서 진행했던 주성분분석 첫번째 주성분과 두번째 주성분의 아래 공식을 대입한 값을 소수 둘째자리까지 구하시오(셋째자리 버림) \n",
    "![image.png](data:image/png;base64,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)\n",
    "\n"
   ]
  },
  {
   "cell_type": "code",
   "execution_count": 36,
   "metadata": {
    "colab": {
     "base_uri": "https://localhost:8080/"
    },
    "id": "ynPnszcOMkpS",
    "outputId": "09d80b74-5af6-461a-e9b5-c9d864c87fa2"
   },
   "outputs": [
    {
     "name": "stdout",
     "output_type": "stream",
     "text": [
      "117.9124677299549\n"
     ]
    }
   ],
   "source": [
    "def dist(x,y):\n",
    "  return np.sqrt(np.sum((x - y) ** 2))\n",
    "\n",
    "print(dist(df3['com1'], df3['com2']))"
   ]
  },
  {
   "cell_type": "markdown",
   "metadata": {
    "id": "-UzGO2qBPWix"
   },
   "source": [
    "문제5: 문제3에서 진행했던 주성분분석 첫번째부터 네번째 주성분 데이터셋을 바탕으로 군집분석을 수행한다. 방법은 계층적 군집분석이고 계산법은 유클리드 거리, 와드연결법으로 수행한다. 군집을 3개로 나눈다고 할때 레코드 수가 가장 많은 군집의 레코드수를 구하여라 "
   ]
  },
  {
   "cell_type": "code",
   "execution_count": 37,
   "metadata": {
    "colab": {
     "base_uri": "https://localhost:8080/"
    },
    "id": "cBKrDb5tNrI5",
    "outputId": "197b8d12-8d95-4a23-fd28-53e871345c80"
   },
   "outputs": [
    {
     "name": "stdout",
     "output_type": "stream",
     "text": [
      "0    2794\n",
      "2     355\n",
      "1     351\n",
      "Name: group, dtype: int64\n"
     ]
    }
   ],
   "source": [
    "from sklearn.cluster import AgglomerativeClustering\n",
    "\n",
    "cluster = AgglomerativeClustering(n_clusters = 3, affinity='euclidean', linkage='ward')\n",
    "df5 = df3.drop('com5', axis=1)\n",
    "df5['group'] = cluster.fit_predict(df5)\n",
    "print( df5['group'].value_counts())\n",
    "\n"
   ]
  },
  {
   "cell_type": "markdown",
   "metadata": {
    "id": "reKDZoeZ-quN"
   },
   "source": [
    "## [크롤링] 네이버 영화 데이터 - 출제빈도 낮음"
   ]
  },
  {
   "cell_type": "code",
   "execution_count": 38,
   "metadata": {
    "colab": {
     "base_uri": "https://localhost:8080/"
    },
    "id": "YMWwDaPc-4ZB",
    "outputId": "c4e35185-1150-4d4d-c1a5-498cab438085"
   },
   "outputs": [
    {
     "name": "stdout",
     "output_type": "stream",
     "text": [
      "Requirement already satisfied: bs4 in /usr/local/lib/python3.7/dist-packages (0.0.1)\n",
      "Requirement already satisfied: beautifulsoup4 in /usr/local/lib/python3.7/dist-packages (from bs4) (4.6.3)\n"
     ]
    }
   ],
   "source": [
    "!pip install bs4"
   ]
  },
  {
   "cell_type": "code",
   "execution_count": 39,
   "metadata": {
    "id": "guAEEMGVAD2q"
   },
   "outputs": [],
   "source": [
    "# 네이버 영화 평점 순위의 랭킹사이트의 데이터를 requests를 이용하여 가져오고 parsing 하여 soup 변수에 저장하라\n",
    "\n",
    "url = 'https://movie.naver.com/movie/sdb/rank/rmovie.nhn?sel=cur&date=20210503'\n",
    "\n",
    "import requests\n",
    "from bs4 import BeautifulSoup as bs\n",
    "data = requests.get(url)\n",
    "soup = bs(data.text)"
   ]
  },
  {
   "cell_type": "code",
   "execution_count": 40,
   "metadata": {
    "colab": {
     "base_uri": "https://localhost:8080/"
    },
    "id": "vOth2qxX_IOv",
    "outputId": "f9e4fc0c-8ed2-441d-c42d-1706710054e7"
   },
   "outputs": [
    {
     "data": {
      "text/plain": [
       "[<meta content=\"text/html; charset=utf-8\" http-equiv=\"Content-Type\"/>,\n",
       " <meta content=\"IE=edge\" http-equiv=\"X-UA-Compatible\"/>,\n",
       " <meta content=\"http://imgmovie.naver.com/today/naverme/naverme_profile.jpg\" property=\"me2:image\"/>,\n",
       " <meta content=\"네이버영화 \" property=\"me2:post_tag\"/>,\n",
       " <meta content=\"네이버영화\" property=\"me2:category1\"/>,\n",
       " <meta content=\"\" property=\"me2:category2\"/>,\n",
       " <meta content=\"랭킹 : 네이버 영화\" property=\"og:title\"/>,\n",
       " <meta content=\"영화, 영화인, 예매, 박스오피스 랭킹 정보 제공\" property=\"og:description\"/>,\n",
       " <meta content=\"article\" property=\"og:type\"/>,\n",
       " <meta content=\"https://movie.naver.com/movie/sdb/rank/rmovie.naver?sel=cur&amp;date=20210503\" property=\"og:url\"/>,\n",
       " <meta content=\"http://static.naver.net/m/movie/icons/OG_270_270.png\" property=\"og:image\"/>,\n",
       " <meta content=\"http://imgmovie.naver.com/today/naverme/naverme_profile.jpg\" property=\"og:article:thumbnailUrl\"/>,\n",
       " <meta content=\"네이버 영화\" property=\"og:article:author\"/>,\n",
       " <meta content=\"https://movie.naver.com/\" property=\"og:article:author:url\"/>]"
      ]
     },
     "execution_count": 40,
     "metadata": {},
     "output_type": "execute_result"
    }
   ],
   "source": [
    "# 메타정보에 관한 모든 파싱값을 meta 변수에 저장하라\n",
    "\n",
    "meta = soup.find_all('meta')\n",
    "meta\n"
   ]
  },
  {
   "cell_type": "code",
   "execution_count": 41,
   "metadata": {
    "colab": {
     "base_uri": "https://localhost:8080/"
    },
    "id": "k4ZIoVnP_qYr",
    "outputId": "a4227f2d-b43d-404c-cf10-d748e39858b3"
   },
   "outputs": [
    {
     "data": {
      "text/plain": [
       "<caption class=\"blind\">랭킹 테이블</caption>"
      ]
     },
     "execution_count": 41,
     "metadata": {},
     "output_type": "execute_result"
    }
   ],
   "source": [
    "# 랭킹테이블의 모든파싱데이터를 가져와서 lstRanking 변수에 저장하라 class=list_ranking\n",
    "\n",
    "lstRanking = soup.find(class_=\"list_ranking\")\n",
    "lstRanking.find(class_='blind')"
   ]
  },
  {
   "cell_type": "code",
   "execution_count": 42,
   "metadata": {
    "id": "uKn1wMj4Ajag"
   },
   "outputs": [],
   "source": [
    "# lstRanking에서 모든 영화의 순위, 이름, 평점, 영화정보링크를 가져와서\n",
    "# 데이터프레임을 만들고 movieTable 변수에 저장하라\n",
    "\n",
    "import pandas as pd\n",
    "\n",
    "title= [x.text.strip() for x in lstRanking.find_all('div',class_='tit5')]\n",
    "point =[x.text for x in lstRanking.find_all('td',class_='point')]\n",
    "rank = range(1,len(point)+1)\n",
    "link = ['https://movie.naver.com' + x.a.get('href') for x in lstRanking.find_all('div',class_='tit5')]\n",
    "\n",
    "movieTable = pd.DataFrame({'rank':rank,'title':title,'point':point,'link':link})"
   ]
  },
  {
   "cell_type": "code",
   "execution_count": 43,
   "metadata": {
    "colab": {
     "base_uri": "https://localhost:8080/",
     "height": 206
    },
    "id": "xX3F6FFGFlD8",
    "outputId": "c3f2963f-609d-4a4a-f2d3-40449fdbad61"
   },
   "outputs": [
    {
     "data": {
      "text/html": [
       "\n",
       "  <div id=\"df-4e80f758-ab80-4bf7-9d1e-ce47de46d60f\">\n",
       "    <div class=\"colab-df-container\">\n",
       "      <div>\n",
       "<style scoped>\n",
       "    .dataframe tbody tr th:only-of-type {\n",
       "        vertical-align: middle;\n",
       "    }\n",
       "\n",
       "    .dataframe tbody tr th {\n",
       "        vertical-align: top;\n",
       "    }\n",
       "\n",
       "    .dataframe thead th {\n",
       "        text-align: right;\n",
       "    }\n",
       "</style>\n",
       "<table border=\"1\" class=\"dataframe\">\n",
       "  <thead>\n",
       "    <tr style=\"text-align: right;\">\n",
       "      <th></th>\n",
       "      <th>rank</th>\n",
       "      <th>title</th>\n",
       "      <th>point</th>\n",
       "      <th>link</th>\n",
       "      <th>date</th>\n",
       "    </tr>\n",
       "  </thead>\n",
       "  <tbody>\n",
       "    <tr>\n",
       "      <th>0</th>\n",
       "      <td>1</td>\n",
       "      <td>레옹</td>\n",
       "      <td>9.37</td>\n",
       "      <td>https://movie.naver.com/movie/bi/mi/basic.nave...</td>\n",
       "      <td>2021-05-03</td>\n",
       "    </tr>\n",
       "    <tr>\n",
       "      <th>1</th>\n",
       "      <td>2</td>\n",
       "      <td>다시 태어나도 우리</td>\n",
       "      <td>9.35</td>\n",
       "      <td>https://movie.naver.com/movie/bi/mi/basic.nave...</td>\n",
       "      <td>2021-05-03</td>\n",
       "    </tr>\n",
       "    <tr>\n",
       "      <th>2</th>\n",
       "      <td>3</td>\n",
       "      <td>피아니스트</td>\n",
       "      <td>9.33</td>\n",
       "      <td>https://movie.naver.com/movie/bi/mi/basic.nave...</td>\n",
       "      <td>2021-05-03</td>\n",
       "    </tr>\n",
       "    <tr>\n",
       "      <th>3</th>\n",
       "      <td>4</td>\n",
       "      <td>미안해요, 리키</td>\n",
       "      <td>9.32</td>\n",
       "      <td>https://movie.naver.com/movie/bi/mi/basic.nave...</td>\n",
       "      <td>2021-05-03</td>\n",
       "    </tr>\n",
       "    <tr>\n",
       "      <th>4</th>\n",
       "      <td>5</td>\n",
       "      <td>부활: 그 증거</td>\n",
       "      <td>9.31</td>\n",
       "      <td>https://movie.naver.com/movie/bi/mi/basic.nave...</td>\n",
       "      <td>2021-05-03</td>\n",
       "    </tr>\n",
       "  </tbody>\n",
       "</table>\n",
       "</div>\n",
       "      <button class=\"colab-df-convert\" onclick=\"convertToInteractive('df-4e80f758-ab80-4bf7-9d1e-ce47de46d60f')\"\n",
       "              title=\"Convert this dataframe to an interactive table.\"\n",
       "              style=\"display:none;\">\n",
       "        \n",
       "  <svg xmlns=\"http://www.w3.org/2000/svg\" height=\"24px\"viewBox=\"0 0 24 24\"\n",
       "       width=\"24px\">\n",
       "    <path d=\"M0 0h24v24H0V0z\" fill=\"none\"/>\n",
       "    <path d=\"M18.56 5.44l.94 2.06.94-2.06 2.06-.94-2.06-.94-.94-2.06-.94 2.06-2.06.94zm-11 1L8.5 8.5l.94-2.06 2.06-.94-2.06-.94L8.5 2.5l-.94 2.06-2.06.94zm10 10l.94 2.06.94-2.06 2.06-.94-2.06-.94-.94-2.06-.94 2.06-2.06.94z\"/><path d=\"M17.41 7.96l-1.37-1.37c-.4-.4-.92-.59-1.43-.59-.52 0-1.04.2-1.43.59L10.3 9.45l-7.72 7.72c-.78.78-.78 2.05 0 2.83L4 21.41c.39.39.9.59 1.41.59.51 0 1.02-.2 1.41-.59l7.78-7.78 2.81-2.81c.8-.78.8-2.07 0-2.86zM5.41 20L4 18.59l7.72-7.72 1.47 1.35L5.41 20z\"/>\n",
       "  </svg>\n",
       "      </button>\n",
       "      \n",
       "  <style>\n",
       "    .colab-df-container {\n",
       "      display:flex;\n",
       "      flex-wrap:wrap;\n",
       "      gap: 12px;\n",
       "    }\n",
       "\n",
       "    .colab-df-convert {\n",
       "      background-color: #E8F0FE;\n",
       "      border: none;\n",
       "      border-radius: 50%;\n",
       "      cursor: pointer;\n",
       "      display: none;\n",
       "      fill: #1967D2;\n",
       "      height: 32px;\n",
       "      padding: 0 0 0 0;\n",
       "      width: 32px;\n",
       "    }\n",
       "\n",
       "    .colab-df-convert:hover {\n",
       "      background-color: #E2EBFA;\n",
       "      box-shadow: 0px 1px 2px rgba(60, 64, 67, 0.3), 0px 1px 3px 1px rgba(60, 64, 67, 0.15);\n",
       "      fill: #174EA6;\n",
       "    }\n",
       "\n",
       "    [theme=dark] .colab-df-convert {\n",
       "      background-color: #3B4455;\n",
       "      fill: #D2E3FC;\n",
       "    }\n",
       "\n",
       "    [theme=dark] .colab-df-convert:hover {\n",
       "      background-color: #434B5C;\n",
       "      box-shadow: 0px 1px 3px 1px rgba(0, 0, 0, 0.15);\n",
       "      filter: drop-shadow(0px 1px 2px rgba(0, 0, 0, 0.3));\n",
       "      fill: #FFFFFF;\n",
       "    }\n",
       "  </style>\n",
       "\n",
       "      <script>\n",
       "        const buttonEl =\n",
       "          document.querySelector('#df-4e80f758-ab80-4bf7-9d1e-ce47de46d60f button.colab-df-convert');\n",
       "        buttonEl.style.display =\n",
       "          google.colab.kernel.accessAllowed ? 'block' : 'none';\n",
       "\n",
       "        async function convertToInteractive(key) {\n",
       "          const element = document.querySelector('#df-4e80f758-ab80-4bf7-9d1e-ce47de46d60f');\n",
       "          const dataTable =\n",
       "            await google.colab.kernel.invokeFunction('convertToInteractive',\n",
       "                                                     [key], {});\n",
       "          if (!dataTable) return;\n",
       "\n",
       "          const docLinkHtml = 'Like what you see? Visit the ' +\n",
       "            '<a target=\"_blank\" href=https://colab.research.google.com/notebooks/data_table.ipynb>data table notebook</a>'\n",
       "            + ' to learn more about interactive tables.';\n",
       "          element.innerHTML = '';\n",
       "          dataTable['output_type'] = 'display_data';\n",
       "          await google.colab.output.renderOutput(dataTable, element);\n",
       "          const docLink = document.createElement('div');\n",
       "          docLink.innerHTML = docLinkHtml;\n",
       "          element.appendChild(docLink);\n",
       "        }\n",
       "      </script>\n",
       "    </div>\n",
       "  </div>\n",
       "  "
      ],
      "text/plain": [
       "   rank       title point                                               link  \\\n",
       "0     1          레옹  9.37  https://movie.naver.com/movie/bi/mi/basic.nave...   \n",
       "1     2  다시 태어나도 우리  9.35  https://movie.naver.com/movie/bi/mi/basic.nave...   \n",
       "2     3       피아니스트  9.33  https://movie.naver.com/movie/bi/mi/basic.nave...   \n",
       "3     4    미안해요, 리키  9.32  https://movie.naver.com/movie/bi/mi/basic.nave...   \n",
       "4     5    부활: 그 증거  9.31  https://movie.naver.com/movie/bi/mi/basic.nave...   \n",
       "\n",
       "         date  \n",
       "0  2021-05-03  \n",
       "1  2021-05-03  \n",
       "2  2021-05-03  \n",
       "3  2021-05-03  \n",
       "4  2021-05-03  "
      ]
     },
     "execution_count": 43,
     "metadata": {},
     "output_type": "execute_result"
    }
   ],
   "source": [
    "# movieTable에 date 컬럼을 추가하여 2021-05-03 을 입력하라\n",
    "\n",
    "movieTable['date'] = '2021-05-03'\n",
    "movieTable.head()"
   ]
  },
  {
   "cell_type": "markdown",
   "metadata": {
    "id": "3fJ7bdjQAJU-"
   },
   "source": [
    "# 작업형2"
   ]
  },
  {
   "cell_type": "markdown",
   "metadata": {
    "id": "GeiUzb0C4ISU"
   },
   "source": [
    "## [빅분기예시] 작업형2"
   ]
  },
  {
   "cell_type": "code",
   "execution_count": 44,
   "metadata": {
    "colab": {
     "base_uri": "https://localhost:8080/"
    },
    "id": "6WkkuUCU4Naj",
    "outputId": "4e6a3a6f-a339-4f37-b274-01a185f1107e"
   },
   "outputs": [
    {
     "name": "stdout",
     "output_type": "stream",
     "text": [
      "scores:\n",
      " [0.63762947 0.65259386 0.6945588  0.66916283 0.69148517]\n",
      "\n",
      "Average score:\n",
      "0.6690860255334301\n"
     ]
    }
   ],
   "source": [
    "import pandas as pd\n",
    "import numpy as np \n",
    "\n",
    "y_train = pd.read_csv('https://raw.githubusercontent.com/Datamanim/dataq/main/y_train.csv')\n",
    "X_train = pd.read_csv('https://raw.githubusercontent.com/Datamanim/dataq/main/X_train.csv', encoding='euc-kr')\n",
    "test  = pd.read_csv('https://raw.githubusercontent.com/Datamanim/dataq/main/X_test.csv',encoding='euc-kr')\n",
    "submission = test.iloc[:,:2]\n",
    "\n",
    "train = pd.merge(X_train, y_train)\n",
    "\n",
    "# 음수 데이터 삭제\n",
    "train = train[train['총구매액']>0]\n",
    "\n",
    "# 값이 1개인 범주형 데이터 삭제\n",
    "train = train.loc[train['주구매지점'] != '상인점']\n",
    "\n",
    "#이상값 처리\n",
    "train.loc[train['총구매액']>250000000, '총구매액'] = 250000000\n",
    "\n",
    "\n",
    "# X_train, y_train, test 데이터 지정\n",
    "X_train = train.drop(['cust_id', 'gender'], axis=1)\n",
    "y_train = train['gender']\n",
    "test = test.drop(['cust_id'], axis=1)\n",
    "\n",
    "# 데이터 전처리를 쉽게 하기 위해 X_train과 test 데이터 병합\n",
    "data = pd.concat([X_train, test])\n",
    "\n",
    "#환불금액 최소값이 0이,  아니므로 결측값을 0으로 변환\n",
    "data['환불금액'].fillna(0, inplace=True)\n",
    "\n",
    "\n",
    "# 범주형 데이터 처리\n",
    "w_item = ['침구/수예', '디자이너', '액세서리', '시티웨어', '화장품', '농산물', '모피/피혁', '커리어']\n",
    "m_item = ['식기', '주방가전', '남성 캐주얼', '주류', '남성정장', '악기']\n",
    "data['주구매상품'] = data['주구매상품'].map(lambda x : '남성제품' if x in m_item else('여성제품' if x in w_item else x))\n",
    "\n",
    "m_store = ['전주점', '안양점', '대구점', '울산점', '센텀시티점']\n",
    "w_store = ['일산점', '부산본점', '강남점', '분당점', '잠실점', '본 점']\n",
    "data['주구매지점'] = data['주구매지점'].map(lambda x : '남성매장' if x in m_store else('여성매장' if x in w_store else x))\n",
    "\n",
    "# 파생변수 생성\n",
    "data['최초구매액'] = data['총구매액'] + data['환불금액'] + 1\n",
    "data['최대구매액비율'] = data['최대구매액']/data['최초구매액']\n",
    "data['최대구매액비율2'] = data['총구매액']/data['최대구매액']\n",
    "data['환불금액비율'] = data['환불금액']/data['최초구매액']\n",
    "data['총구매건수'] = data['내점일수']*data['내점당구매건수']\n",
    "data['내점기간'] = data['내점일수']*(data['구매주기']+1)\n",
    "data['주말방문일수'] =data['내점일수']*data['주말방문비율']\n",
    "data['평일방문일수'] = data['내점일수'] - data['주말방문일수']\n",
    "data['주말만'] = data['주말방문비율'].map(lambda x : 1 if x == 1 else 0)\n",
    "data['평일만'] = data['주말방문비율'].map(lambda x : 1 if x == 0 else 0)\n",
    "data['주말>평일'] = data['주말방문비율'].map(lambda x : 1 if (x > 0.5) & (x !=1) else 0)\n",
    "data['주말<평일'] = data['주말방문비율'].map(lambda x : 1 if (x < 0.5) & (x !=0) else 0)\n",
    "\n",
    "\n",
    "# 원핫 인코딩\n",
    "data = pd.get_dummies(data)\n",
    "\n",
    "\n",
    "# 데이터 표준화\n",
    "from sklearn.preprocessing import StandardScaler, MinMaxScaler\n",
    "sc = StandardScaler()\n",
    "data= sc.fit_transform(data)\n",
    "\n",
    "# 데이터 분할\n",
    "X_train = data[:len(X_train)]\n",
    "test = data[len(X_train):]\n",
    "\n",
    "# 모델설계\n",
    "from sklearn.ensemble import RandomForestClassifier, GradientBoostingClassifier\n",
    "# from sklearn.linear_model import LogisticRegression\n",
    "# from sklearn.svm import SVC\n",
    "# from xgboost import XGBClassifier\n",
    "# from sklearn.naive_bayes import GaussianNB\n",
    "# from sklearn.model_selection import cross_val_score\n",
    "\n",
    "model = RandomForestClassifier(random_state=2021, n_estimators=400, max_depth=20, class_weight='balanced')\n",
    "\n",
    "# 교차검증\n",
    "scores = cross_val_score(model, X_train, y_train, \n",
    "                              cv=5,\n",
    "                              scoring='roc_auc')\n",
    "print(\"scores:\\n\", scores)\n",
    "print(\"\\nAverage score:\")\n",
    "print(scores.mean())\n",
    "\n",
    "\n",
    "# 모델 학습 및 제출파일 생성\n",
    "model.fit(X_train, y_train)\n",
    "y_pred = model.predict_proba(test)\n",
    "submission = pd.DataFrame({'custid': submission.cust_id, 'gender' : y_pred[:,1]})\n",
    "submission.to_csv(\"수험번호.csv\",index=False)"
   ]
  },
  {
   "cell_type": "markdown",
   "metadata": {
    "id": "DuhiPFjIS4lJ"
   },
   "source": [
    "## [데이콘] 와인품질분류\n",
    "- https://dacon.io/competitions/open/235610/overview/description"
   ]
  },
  {
   "cell_type": "code",
   "execution_count": 48,
   "metadata": {
    "colab": {
     "base_uri": "https://localhost:8080/",
     "height": 72
    },
    "id": "cFHGQsEoS0Ry",
    "outputId": "e2e1d297-3d90-4827-f13c-31037c9d9c0e"
   },
   "outputs": [
    {
     "name": "stdout",
     "output_type": "stream",
     "text": [
      "before :  5497\n",
      "[0.68909091 0.69       0.67606915 0.67424932 0.66424022]\n",
      "0.6787299197617669\n"
     ]
    },
    {
     "data": {
      "application/javascript": "\n    async function download(id, filename, size) {\n      if (!google.colab.kernel.accessAllowed) {\n        return;\n      }\n      const div = document.createElement('div');\n      const label = document.createElement('label');\n      label.textContent = `Downloading \"${filename}\": `;\n      div.appendChild(label);\n      const progress = document.createElement('progress');\n      progress.max = size;\n      div.appendChild(progress);\n      document.body.appendChild(div);\n\n      const buffers = [];\n      let downloaded = 0;\n\n      const channel = await google.colab.kernel.comms.open(id);\n      // Send a message to notify the kernel that we're ready.\n      channel.send({})\n\n      for await (const message of channel.messages) {\n        // Send a message to notify the kernel that we're ready.\n        channel.send({})\n        if (message.buffers) {\n          for (const buffer of message.buffers) {\n            buffers.push(buffer);\n            downloaded += buffer.byteLength;\n            progress.value = downloaded;\n          }\n        }\n      }\n      const blob = new Blob(buffers, {type: 'application/binary'});\n      const a = document.createElement('a');\n      a.href = window.URL.createObjectURL(blob);\n      a.download = filename;\n      div.appendChild(a);\n      a.click();\n      div.remove();\n    }\n  ",
      "text/plain": [
       "<IPython.core.display.Javascript object>"
      ]
     },
     "metadata": {},
     "output_type": "display_data"
    },
    {
     "data": {
      "application/javascript": "download(\"download_69fb0882-5ac6-4af4-ad83-e8d5276503b6\", \"wine.csv\", 5904)",
      "text/plain": [
       "<IPython.core.display.Javascript object>"
      ]
     },
     "metadata": {},
     "output_type": "display_data"
    }
   ],
   "source": [
    "import pandas as pd\n",
    "\n",
    "train = pd.read_csv('https://raw.githubusercontent.com/inrap8206/Bigdata_Analyst_Certificate_Korean/main/data/wine/train.csv')\n",
    "test = pd.read_csv('https://raw.githubusercontent.com/inrap8206/Bigdata_Analyst_Certificate_Korean/main/data/wine/test.csv')\n",
    "sub = pd.read_csv('https://raw.githubusercontent.com/inrap8206/Bigdata_Analyst_Certificate_Korean/main/data/wine/sample_submission.csv')\n",
    "\n",
    "# 변주형 범수 처리\n",
    "train['type'] = train['type'].map(lambda x : 1 if x == 'white' else 0)\n",
    "test['type'] = test['type'].map(lambda x : 1 if x == 'white' else 0)\n",
    "\n",
    "# 불필요 컬럼 삭제\n",
    "label = train['quality']\n",
    "train.drop(['index', 'quality'], axis=1, inplace=True)\n",
    "test.drop('index', axis=1, inplace=True)\n",
    "\n",
    "print('before : ', len(train))\n",
    "\n",
    "\n",
    "# 데이터 표준화\n",
    "from sklearn.preprocessing import StandardScaler\n",
    "sc = StandardScaler()\n",
    "\n",
    "train = sc.fit_transform(train)\n",
    "test = sc.transform(test)\n",
    "\n",
    "\n",
    "\n",
    "# 모델링\n",
    "from sklearn.ensemble import RandomForestClassifier, AdaBoostClassifier, GradientBoostingClassifier\n",
    "from sklearn.neural_network import MLPClassifier\n",
    "from sklearn.tree import DecisionTreeClassifier\n",
    "from sklearn.model_selection import cross_val_score\n",
    "\n",
    "\n",
    "model = RandomForestClassifier(random_state=2022, n_estimators=394) #400\n",
    "\n",
    "# 교차검증\n",
    "score = cross_val_score(model, train, label, cv=5, scoring='accuracy')\n",
    "\n",
    "print(score)\n",
    "print(score.mean())\n",
    "\n",
    "\n",
    "# 제출\n",
    "model.fit(train, label)\n",
    "preds = model.predict(test)\n",
    "sub.iloc[:,1] = preds\n",
    "sub.to_csv('wine.csv', index=False)\n",
    "files.download('wine.csv')"
   ]
  },
  {
   "cell_type": "markdown",
   "metadata": {
    "id": "uYJudovQ5u_n"
   },
   "source": [
    "## [데이콘] 축구선수 이적료"
   ]
  },
  {
   "cell_type": "code",
   "execution_count": 58,
   "metadata": {
    "colab": {
     "base_uri": "https://localhost:8080/",
     "height": 72
    },
    "id": "cyy_LmdAaL10",
    "outputId": "d4392a29-a50d-421b-c93b-0fa0f2b3bd32"
   },
   "outputs": [
    {
     "name": "stdout",
     "output_type": "stream",
     "text": [
      "[11087436.6282528    840418.37468237   144984.75573887   122981.96022157\n",
      "   196556.5622355 ]\n",
      "평균 :  2478475.6562262243\n"
     ]
    },
    {
     "data": {
      "application/javascript": "\n    async function download(id, filename, size) {\n      if (!google.colab.kernel.accessAllowed) {\n        return;\n      }\n      const div = document.createElement('div');\n      const label = document.createElement('label');\n      label.textContent = `Downloading \"${filename}\": `;\n      div.appendChild(label);\n      const progress = document.createElement('progress');\n      progress.max = size;\n      div.appendChild(progress);\n      document.body.appendChild(div);\n\n      const buffers = [];\n      let downloaded = 0;\n\n      const channel = await google.colab.kernel.comms.open(id);\n      // Send a message to notify the kernel that we're ready.\n      channel.send({})\n\n      for await (const message of channel.messages) {\n        // Send a message to notify the kernel that we're ready.\n        channel.send({})\n        if (message.buffers) {\n          for (const buffer of message.buffers) {\n            buffers.push(buffer);\n            downloaded += buffer.byteLength;\n            progress.value = downloaded;\n          }\n        }\n      }\n      const blob = new Blob(buffers, {type: 'application/binary'});\n      const a = document.createElement('a');\n      a.href = window.URL.createObjectURL(blob);\n      a.download = filename;\n      div.appendChild(a);\n      a.click();\n      div.remove();\n    }\n  ",
      "text/plain": [
       "<IPython.core.display.Javascript object>"
      ]
     },
     "metadata": {},
     "output_type": "display_data"
    },
    {
     "data": {
      "application/javascript": "download(\"download_80ad1c7e-e5b4-44bc-b371-cbcb381a8dee\", \"soccer.csv\", 59541)",
      "text/plain": [
       "<IPython.core.display.Javascript object>"
      ]
     },
     "metadata": {},
     "output_type": "display_data"
    }
   ],
   "source": [
    "import pandas as pd\n",
    "\n",
    "train = pd.read_csv('https://raw.githubusercontent.com/inrap8206/Bigdata_Analyst_Certificate_Korean/main/data/fifa/FIFA_train.csv')\n",
    "test = pd.read_csv('https://raw.githubusercontent.com/inrap8206/Bigdata_Analyst_Certificate_Korean/main/data/fifa/FIFA_test.csv')\n",
    "sub = pd.read_csv('https://raw.githubusercontent.com/inrap8206/Bigdata_Analyst_Certificate_Korean/main/data/fifa/submission.csv')\n",
    "\n",
    "# label 설정 및 불필요 컬럼 삭제\n",
    "label = train['value']\n",
    "train.drop(['id', 'name', 'value'], axis=1, inplace=True)\n",
    "test.drop(['id', 'name'], axis=1, inplace=True)\n",
    "\n",
    "# 데이터 전처리를 위해 train, test 병합\n",
    "data = pd.concat([train, test])\n",
    "\n",
    "\n",
    "# 범주형 처리\n",
    "data['contract_until'] = pd.to_datetime(data['contract_until'])\n",
    "data['contract_until_year'] = data['contract_until'].dt.year\n",
    "data['contract_until_month'] = data['contract_until'].dt.month\n",
    "data.drop('contract_until', axis=1, inplace=True)\n",
    "\n",
    "\n",
    "dic_conti = {'oceania' : 0, 'asia' : 1, 'europe' : 2, 'africa' : 3, 'south america' :4}\n",
    "data['continent'] = data['continent'].map(dic_conti)\n",
    "\n",
    "dic_pos = {'GK' : 0, 'DF' : 1, 'MF' : 2, 'ST' : 3}\n",
    "data['position'] = data['position'].map(dic_pos)\n",
    "\n",
    "data['prefer_foot'] = data['prefer_foot'].map(lambda x : 1 if x == 'left' else 0)\n",
    "\n",
    "\n",
    "\n",
    "# 데이터 분리\n",
    "train = data[:len(train)]\n",
    "test = data[len(train):]\n",
    "\n",
    "\n",
    "# 스케일링\n",
    "from sklearn.preprocessing import StandardScaler\n",
    "sc = StandardScaler()\n",
    "train = sc.fit_transform(train)\n",
    "test = sc.transform(test)\n",
    "\n",
    "# 모델링\n",
    "from sklearn.ensemble import RandomForestRegressor, AdaBoostRegressor, GradientBoostingRegressor\n",
    "from xgboost import XGBRegressor\n",
    "from sklearn.model_selection import cross_val_score\n",
    "\n",
    "model = RandomForestRegressor(random_state=2020)\n",
    "\n",
    "score = -1*cross_val_score(model, train, label, cv=5, scoring='neg_root_mean_squared_error')\n",
    "\n",
    "print(score)\n",
    "print('평균 : ',score.mean())\n",
    "# 제출\n",
    "\n",
    "model.fit(train, label)\n",
    "preds = model.predict(test)\n",
    "sub['value'] = preds\n",
    "sub.to_csv('soccer.csv', index=False)\n",
    "files.download('soccer.csv')"
   ]
  },
  {
   "cell_type": "markdown",
   "metadata": {
    "id": "CvGcg5jqkH3Y"
   },
   "source": [
    "## [데이콘] 영화관객수 예측"
   ]
  },
  {
   "cell_type": "code",
   "execution_count": 59,
   "metadata": {
    "colab": {
     "base_uri": "https://localhost:8080/",
     "height": 72
    },
    "id": "S_jdRfI7kJfp",
    "outputId": "2a2fdda4-e249-4373-b16e-14bc5b717427"
   },
   "outputs": [
    {
     "name": "stdout",
     "output_type": "stream",
     "text": [
      "[1218225.42348285 1225824.81372853 1094526.15754126 1934808.16711838\n",
      " 1797653.21352594]\n",
      "평균 :  1454207.5550793947\n"
     ]
    },
    {
     "data": {
      "application/javascript": "\n    async function download(id, filename, size) {\n      if (!google.colab.kernel.accessAllowed) {\n        return;\n      }\n      const div = document.createElement('div');\n      const label = document.createElement('label');\n      label.textContent = `Downloading \"${filename}\": `;\n      div.appendChild(label);\n      const progress = document.createElement('progress');\n      progress.max = size;\n      div.appendChild(progress);\n      document.body.appendChild(div);\n\n      const buffers = [];\n      let downloaded = 0;\n\n      const channel = await google.colab.kernel.comms.open(id);\n      // Send a message to notify the kernel that we're ready.\n      channel.send({})\n\n      for await (const message of channel.messages) {\n        // Send a message to notify the kernel that we're ready.\n        channel.send({})\n        if (message.buffers) {\n          for (const buffer of message.buffers) {\n            buffers.push(buffer);\n            downloaded += buffer.byteLength;\n            progress.value = downloaded;\n          }\n        }\n      }\n      const blob = new Blob(buffers, {type: 'application/binary'});\n      const a = document.createElement('a');\n      a.href = window.URL.createObjectURL(blob);\n      a.download = filename;\n      div.appendChild(a);\n      a.click();\n      div.remove();\n    }\n  ",
      "text/plain": [
       "<IPython.core.display.Javascript object>"
      ]
     },
     "metadata": {},
     "output_type": "display_data"
    },
    {
     "data": {
      "application/javascript": "download(\"download_a2ce256d-f968-4850-b9ba-ce35f864be29\", \"movie.csv\", 6509)",
      "text/plain": [
       "<IPython.core.display.Javascript object>"
      ]
     },
     "metadata": {},
     "output_type": "display_data"
    }
   ],
   "source": [
    "import pandas as pd\n",
    "\n",
    "train = pd.read_csv('https://raw.githubusercontent.com/inrap8206/Bigdata_Analyst_Certificate_Korean/main/data/movie/movies_train.csv')\n",
    "test = pd.read_csv('https://raw.githubusercontent.com/inrap8206/Bigdata_Analyst_Certificate_Korean/main/data/movie/movies_test.csv')\n",
    "sub = pd.read_csv('https://raw.githubusercontent.com/inrap8206/Bigdata_Analyst_Certificate_Korean/main/data/movie/submission.csv')\n",
    "\n",
    "# label 설정 및 불필요 컬럼 삭제\n",
    "label = train['box_off_num']\n",
    "train.drop(['title', 'box_off_num'], axis=1, inplace=True)\n",
    "test.drop(['title'], axis=1, inplace=True)\n",
    "\n",
    "# 데이터 전처리를 위해 train, test 병합\n",
    "data = pd.concat([train, test])\n",
    "\n",
    "# 결측값 처리\n",
    "data = data.fillna(0)\n",
    "\n",
    "# 범주형 처리\n",
    "data['distributor_diretor'] = data['distributor'] + '_' +data['director']\n",
    "\n",
    "\n",
    "for i in ['NEW', '쇼박스', 'CJ', 'CGV', 'SK', '싸이더스']:\n",
    "   data['distributor'] = data['distributor'].map(lambda x : i if i in x else x)\n",
    "\n",
    "genre_label = {'느와르':11, '액션':10, 'SF':9, '코미디':8, '드라마':7, '공포':6, '미스터리':5, '멜로/로맨스':4, '애니메이션':3, '서스펜스':2, '다큐멘터리':1, '뮤지컬':0}\n",
    "data['genre'] = data['genre'].map(genre_label)\n",
    "\n",
    "data = pd.get_dummies(data)\n",
    "\n",
    "\n",
    "\n",
    "# 피쳐엔지니어링(정제, 이상치, 파생변수 등)\n",
    "\n",
    "# 데이터 분리\n",
    "train = data[:len(train)]\n",
    "test = data[len(train):]\n",
    "\n",
    "\n",
    "# 모델링\n",
    "from sklearn.ensemble import RandomForestRegressor, AdaBoostRegressor, GradientBoostingRegressor\n",
    "from xgboost import XGBRegressor\n",
    "from sklearn.model_selection import cross_val_score\n",
    "model = RandomForestRegressor(random_state=2020)\n",
    "\n",
    "# 교차검증\n",
    "score = -1*cross_val_score(model, train, label, cv=5, scoring='neg_root_mean_squared_error')\n",
    "\n",
    "print(score)\n",
    "print('평균 : ',score.mean())\n",
    "\n",
    "# 제출\n",
    "model.fit(train, label)\n",
    "preds = model.predict(test)\n",
    "sub['box_off_num'] = preds\n",
    "sub.to_csv('movie.csv', index=False)\n",
    "files.download('movie.csv')"
   ]
  },
  {
   "cell_type": "markdown",
   "metadata": {
    "id": "uLqzX8Wb67wh"
   },
   "source": [
    "## [데이콘] 타이타닉"
   ]
  },
  {
   "cell_type": "code",
   "execution_count": 61,
   "metadata": {
    "colab": {
     "base_uri": "https://localhost:8080/",
     "height": 54
    },
    "id": "YCnDUI-mpJNC",
    "outputId": "87ff97ba-053e-4e55-a060-ed93532f5da6"
   },
   "outputs": [
    {
     "name": "stdout",
     "output_type": "stream",
     "text": [
      "[0.8404036  0.87522769 0.89188477]\n",
      "평균 :  0.8691720193014412\n"
     ]
    },
    {
     "data": {
      "application/javascript": "\n    async function download(id, filename, size) {\n      if (!google.colab.kernel.accessAllowed) {\n        return;\n      }\n      const div = document.createElement('div');\n      const label = document.createElement('label');\n      label.textContent = `Downloading \"${filename}\": `;\n      div.appendChild(label);\n      const progress = document.createElement('progress');\n      progress.max = size;\n      div.appendChild(progress);\n      document.body.appendChild(div);\n\n      const buffers = [];\n      let downloaded = 0;\n\n      const channel = await google.colab.kernel.comms.open(id);\n      // Send a message to notify the kernel that we're ready.\n      channel.send({})\n\n      for await (const message of channel.messages) {\n        // Send a message to notify the kernel that we're ready.\n        channel.send({})\n        if (message.buffers) {\n          for (const buffer of message.buffers) {\n            buffers.push(buffer);\n            downloaded += buffer.byteLength;\n            progress.value = downloaded;\n          }\n        }\n      }\n      const blob = new Blob(buffers, {type: 'application/binary'});\n      const a = document.createElement('a');\n      a.href = window.URL.createObjectURL(blob);\n      a.download = filename;\n      div.appendChild(a);\n      a.click();\n      div.remove();\n    }\n  ",
      "text/plain": [
       "<IPython.core.display.Javascript object>"
      ]
     },
     "metadata": {},
     "output_type": "display_data"
    },
    {
     "data": {
      "application/javascript": "download(\"download_c9514dbb-af39-4175-89a7-74ae6aa36e44\", \"submission.csv\", 10309)",
      "text/plain": [
       "<IPython.core.display.Javascript object>"
      ]
     },
     "metadata": {},
     "output_type": "display_data"
    }
   ],
   "source": [
    "import pandas as pd\n",
    "import numpy as np\n",
    "\n",
    "train = pd.read_csv('https://raw.githubusercontent.com/inrap8206/Bigdata_Analyst_Certificate_Korean/main/data/titanic/train.csv')\n",
    "test = pd.read_csv('https://raw.githubusercontent.com/inrap8206/Bigdata_Analyst_Certificate_Korean/main/data/titanic/test.csv')\n",
    "sub = pd.read_csv('https://raw.githubusercontent.com/inrap8206/Bigdata_Analyst_Certificate_Korean/main/data/titanic/submission.csv')\n",
    "\n",
    "# label 및 X_train 설정\n",
    "y_train = train['Survived']\n",
    "X_train = train.drop('Survived', axis=1)\n",
    "X_test = test.copy()\n",
    "X_data = pd.concat([X_train, X_test])\n",
    "X_data.drop(['Name', 'PassengerId'], axis=1, inplace=True)\n",
    "\n",
    "# 결측값 ('Age','Cabin')\n",
    "X_data['Age'].fillna(X_data['Age'].mean(), inplace=True)\n",
    "X_data['Fare'].fillna(X_data['Fare'].mean(), inplace=True)\n",
    "X_data['Cabin'].fillna('C23 C25 C27', inplace=True)\n",
    "X_data['Embarked'].fillna('S', inplace=True)\n",
    "\n",
    "# 범주형 ('Name'-삭제, 'Sex'-바이너리, 'Ticket'-원핫, 'Cabin'-원핫, 'Embarked'-Ordinal)\n",
    "X_data['Sex'] = X_data['Sex'].map(lambda x : 1 if x == 'female' else 0)\n",
    "em_dic = {'S': 1, 'Q': 2, 'C': 1}\n",
    "X_data['Embarked'] = X_data['Embarked'].map(em_dic)\n",
    "\n",
    "X_data = pd.get_dummies(X_data)\n",
    "X_data\n",
    "\n",
    "# 데이터분리\n",
    "X_train = X_data[:len(X_train)]\n",
    "X_test = X_data[len(X_train):]\n",
    "\n",
    "# 피쳐 엔지니어링(이상치, 정제, 파생변수, 선택)\n",
    "# 모델링\n",
    "from sklearn.ensemble import RandomForestClassifier, GradientBoostingClassifier\n",
    "from xgboost import XGBClassifier\n",
    "from sklearn.model_selection import cross_val_score\n",
    "\n",
    "model1 = GradientBoostingClassifier(random_state=2021)\n",
    "model2 = RandomForestClassifier(random_state=2021)\n",
    "\n",
    "# # 교차검증\n",
    "score = cross_val_score(model1, X_train, y_train, cv=3, scoring='roc_auc')\n",
    "print(score)\n",
    "print(\"평균 : \",score.mean())\n",
    "\n",
    "# 제출\n",
    "model1.fit(X_train, y_train)\n",
    "preds1 = model1.predict_proba(X_test)\n",
    "\n",
    "model2.fit(X_train, y_train)\n",
    "preds2 = model2.predict_proba(X_test)\n",
    "\n",
    "preds = (preds1*0.6 + preds2*0.4)/2\n",
    "\n",
    "sub['Survived'] = preds[:,1]\n",
    "sub.to_csv('submission.csv', index=False)\n",
    "files.download('submission.csv')"
   ]
  },
  {
   "cell_type": "markdown",
   "metadata": {
    "id": "kacll0yh4Our"
   },
   "source": [
    "## [데이콘] 신용카드"
   ]
  },
  {
   "cell_type": "code",
   "execution_count": 62,
   "metadata": {
    "colab": {
     "base_uri": "https://localhost:8080/",
     "height": 72
    },
    "id": "45ei20PS4HF4",
    "outputId": "3677c928-e863-46a9-9c95-16ae12ef1d63"
   },
   "outputs": [
    {
     "name": "stdout",
     "output_type": "stream",
     "text": [
      "Drive already mounted at /content/drive; to attempt to forcibly remount, call drive.mount(\"/content/drive\", force_remount=True).\n",
      "[1.02237421 1.03431233 1.09091968 1.0281263  1.00561492]\n",
      "평균 :  1.0362694877096392\n"
     ]
    },
    {
     "data": {
      "application/javascript": "\n    async function download(id, filename, size) {\n      if (!google.colab.kernel.accessAllowed) {\n        return;\n      }\n      const div = document.createElement('div');\n      const label = document.createElement('label');\n      label.textContent = `Downloading \"${filename}\": `;\n      div.appendChild(label);\n      const progress = document.createElement('progress');\n      progress.max = size;\n      div.appendChild(progress);\n      document.body.appendChild(div);\n\n      const buffers = [];\n      let downloaded = 0;\n\n      const channel = await google.colab.kernel.comms.open(id);\n      // Send a message to notify the kernel that we're ready.\n      channel.send({})\n\n      for await (const message of channel.messages) {\n        // Send a message to notify the kernel that we're ready.\n        channel.send({})\n        if (message.buffers) {\n          for (const buffer of message.buffers) {\n            buffers.push(buffer);\n            downloaded += buffer.byteLength;\n            progress.value = downloaded;\n          }\n        }\n      }\n      const blob = new Blob(buffers, {type: 'application/binary'});\n      const a = document.createElement('a');\n      a.href = window.URL.createObjectURL(blob);\n      a.download = filename;\n      div.appendChild(a);\n      a.click();\n      div.remove();\n    }\n  ",
      "text/plain": [
       "<IPython.core.display.Javascript object>"
      ]
     },
     "metadata": {},
     "output_type": "display_data"
    },
    {
     "data": {
      "application/javascript": "download(\"download_7eb5f297-c959-4f77-94d4-cbade9bf62cb\", \"submission.csv\", 281853)",
      "text/plain": [
       "<IPython.core.display.Javascript object>"
      ]
     },
     "metadata": {},
     "output_type": "display_data"
    }
   ],
   "source": [
    "import pandas as pd\n",
    "\n",
    "train=pd.read_csv('https://raw.githubusercontent.com/inrap8206/Bigdata_Analyst_Certificate_Korean/main/data/credit/train.csv')\n",
    "test=pd.read_csv('https://raw.githubusercontent.com/inrap8206/Bigdata_Analyst_Certificate_Korean/main/data/credit/test.csv')\n",
    "submission=pd.read_csv('https://raw.githubusercontent.com/inrap8206/Bigdata_Analyst_Certificate_Korean/main/data/credit/sample_submission.csv')\n",
    "\n",
    "# X, y train 및 X_test 데이터 설정\n",
    "y_train = train['credit']\n",
    "X_train = train.drop(['credit', 'index'], axis=1)\n",
    "X_test = test.drop('index', axis=1)\n",
    "\n",
    "data = pd.concat([X_train, X_test])\n",
    "\n",
    "#결측치 처리 'occyp_type'\n",
    "data.fillna('none', inplace=True)\n",
    "\n",
    "#범주형 처리 'gender', 'car', 'reality', 'income_type', 'edu_type', 'family_type', 'house_type', 'occyp_type'\n",
    "data = pd.get_dummies(data)\n",
    "\n",
    "#피쳐엔지니어링\n",
    "\n",
    "X_train = data[:len(X_train)]\n",
    "X_test = data[len(X_train):]\n",
    "\n",
    "#모델링\n",
    "from sklearn.ensemble import RandomForestClassifier, GradientBoostingClassifier\n",
    "from xgboost import XGBClassifier\n",
    "from sklearn.model_selection import cross_val_score\n",
    "\n",
    "model = RandomForestClassifier(random_state=2021)\n",
    "\n",
    "#검증\n",
    "score = -1*cross_val_score(model, X_train, y_train, cv=5, scoring = 'neg_log_loss')\n",
    "print(score)\n",
    "print('평균 : ', score.mean())\n",
    "\n",
    "#제출\n",
    "model.fit(X_train, y_train)\n",
    "preds = model.predict_proba(X_test)\n",
    "submission.iloc[:,1:] = preds\n",
    "submission.to_csv('submission.csv', index=False)\n",
    "files.download('submission.csv')"
   ]
  },
  {
   "cell_type": "markdown",
   "metadata": {
    "id": "YN6hDVgexcjh"
   },
   "source": [
    "## [데이콘] 자전거 이용 예측"
   ]
  },
  {
   "cell_type": "code",
   "execution_count": 63,
   "metadata": {
    "colab": {
     "base_uri": "https://localhost:8080/"
    },
    "id": "IUJzAZpBxf-J",
    "outputId": "c42aaac1-aaa6-41b6-a2be-4879596439ec"
   },
   "outputs": [
    {
     "name": "stdout",
     "output_type": "stream",
     "text": [
      "[37.90645405 41.57233637 37.10517534 38.67123209 36.25402958]\n",
      "평균 :  38.30184548572371\n"
     ]
    }
   ],
   "source": [
    "import pandas as pd\n",
    "from sklearn.ensemble import RandomForestRegressor, GradientBoostingRegressor\n",
    "from xgboost import XGBRegressor\n",
    "from sklearn.linear_model import LinearRegression\n",
    "from sklearn.model_selection import cross_val_score\n",
    "from sklearn.preprocessing import StandardScaler, MinMaxScaler, RobustScaler\n",
    "\n",
    "train = pd.read_csv('https://raw.githubusercontent.com/inrap8206/Bigdata_Analyst_Certificate_Korean/main/data/bicycle/train.csv')\n",
    "test = pd.read_csv('https://raw.githubusercontent.com/inrap8206/Bigdata_Analyst_Certificate_Korean/main/data/bicycle/test.csv')\n",
    "sub = pd.read_csv('https://raw.githubusercontent.com/inrap8206/Bigdata_Analyst_Certificate_Korean/main/data/bicycle/submission.csv')\n",
    "\n",
    "y_train = train['count']\n",
    "X_train = train.drop('count', axis=1)\n",
    "X_test = test.copy()\n",
    "\n",
    "X_data = pd.concat([X_train, X_test])\n",
    "X_data.drop('id', axis=1, inplace=True)\n",
    "\n",
    "X_data.fillna(0, inplace=True)\n",
    "\n",
    "# 표준화  StandardScaler, MinMaxScaler, RobustScaler\n",
    "sc = StandardScaler()\n",
    "X_data = sc.fit_transform(X_data)\n",
    "\n",
    "# 모델링\n",
    "X_train = X_data[:len(X_train)]\n",
    "X_test = X_data[len(X_train):]\n",
    "\n",
    "model = RandomForestRegressor(random_state=2021, max_depth=20)\n",
    "score = -1*cross_val_score(model, X_train, y_train, cv=5, scoring='neg_root_mean_squared_error')\n",
    "print(score)\n",
    "print('평균 : ', score.mean())\n",
    "\n",
    "# 학습 및 제출\n",
    "model.fit(X_train, y_train)\n",
    "pred = model.predict(X_test)\n",
    "sub['count'] = pred\n",
    "sub.to_csv('subm.csv', index=False)\n"
   ]
  },
  {
   "cell_type": "markdown",
   "metadata": {
    "id": "F1YF8-xQ9mVy"
   },
   "source": [
    "## [서울시 모기발생상황 지표 예측]"
   ]
  },
  {
   "cell_type": "code",
   "execution_count": 2,
   "metadata": {
    "colab": {
     "base_uri": "https://localhost:8080/"
    },
    "id": "ihBV-dpU9rUy",
    "outputId": "b2ad23ee-b813-43b3-b7d4-7c5fb1404d16"
   },
   "outputs": [
    {
     "name": "stdout",
     "output_type": "stream",
     "text": [
      "[0.80546793 0.85399454 0.72843716 0.77342194 0.61088081]\n",
      "평균 :  0.754440476253236\n",
      "[21:35:27] WARNING: /workspace/src/objective/regression_obj.cu:152: reg:linear is now deprecated in favor of reg:squarederror.\n"
     ]
    }
   ],
   "source": [
    "import pandas as pd\n",
    "from sklearn.ensemble import RandomForestRegressor, AdaBoostRegressor, GradientBoostingRegressor\n",
    "from xgboost import XGBRegressor\n",
    "from sklearn.model_selection import cross_val_score\n",
    "import warnings\n",
    "warnings.filterwarnings('ignore')\n",
    "\n",
    "X_train =pd.read_csv('https://raw.githubusercontent.com/Datamanim/mosquito/main/train_x.csv',encoding='euc-kr')\n",
    "y_train =pd.read_csv('https://raw.githubusercontent.com/Datamanim/mosquito/main/train_y.csv',encoding='euc-kr')\n",
    "X_test =pd.read_csv('https://raw.githubusercontent.com/Datamanim/mosquito/main/test_x.csv',encoding='euc-kr')\n",
    "sub    =pd.read_csv('https://raw.githubusercontent.com/Datamanim/mosquito/main/sub.csv')\n",
    "\n",
    "\n",
    "train = pd.merge(X_train, y_train)\n",
    "X_data = pd.concat([X_train, X_test])\n",
    "\n",
    "\n",
    "X_data['date'] = pd.to_datetime(X_data['date'])\n",
    "X_data['year'] = X_data['date'].dt.year\n",
    "X_data['month'] = X_data['date'].dt.month\n",
    "X_data['day'] = X_data['date'].dt.day\n",
    "X_data['weekday'] = X_data['date'].dt.weekday\n",
    "X_data.drop('date', axis=1, inplace=True)\n",
    "\n",
    "# 파생변수 생성\n",
    "season = {'12':1, '1':1, '2':1,'3':2,'4':2,'5':2,'6':3,'7':3,'8':3,'9':4,'10':4,'11':4}\n",
    "X_data['season'] = X_data['month'].apply(lambda x : season[str(x)])\n",
    "X_data['rain'] = X_data['강수량(mm)'].map(lambda x : 1 if x >= 0.5 else 0)\n",
    "X_data['hot'] = X_data['최고기온(℃)'].map(lambda x : 1 if x >= 28 else 0)\n",
    "\n",
    "\n",
    "#이상치 처리\n",
    "for col in ['강수량(mm)',\t'평균기온(℃)',\t'최저기온(℃)',\t'최고기온(℃)']:\n",
    "  q3 = np.percentile(X_data[col], 75)\n",
    "  q1 = np.percentile(X_data[col], 25)\n",
    "  iqr = q3-q1\n",
    "  max_num = iqr+q3\n",
    "  min_num = iqr+q1\n",
    "  X_data[col] = X_data[col].map(lambda x : max_num if x > max_num else (min_num if x < min_num else x ))\n",
    "\n",
    "\n",
    "# 표준화\n",
    "from sklearn.preprocessing import MinMaxScaler, StandardScaler\n",
    "sc = StandardScaler()\n",
    "X_data = sc.fit_transform(X_data)\n",
    "\n",
    "\n",
    "# 데이터 분리, 학습 데이터 설정\n",
    "X_train = X_data[:len(X_train)]\n",
    "X_test = X_data[len(X_train):]\n",
    "y_train = y_train.iloc[:,1]\n",
    "\n",
    "# 모델링\n",
    "model1 = XGBRegressor(random_state=2021, n_estimators=400, learning_rate=0.07) # GradientBoostingRegressor XGBRegressor RandomForestRegressor AdaBoostRegressor,\n",
    "model2 = GradientBoostingRegressor(random_state=2022, n_estimators=400)\n",
    "score = cross_val_score(model2, X_train, y_train, cv=5, scoring='r2')\n",
    "print(score)\n",
    "print('평균 : ', score.mean())\n",
    "\n",
    "# 학습 및 제출\n",
    "model1.fit(X_train, y_train)\n",
    "model2.fit(X_train, y_train)\n",
    "pred1 = model1.predict(X_test)\n",
    "pred2 = model2.predict(X_test)\n",
    "preds = (pred1+pred2)/2\n",
    "sub['mosquito_ratio'] = preds\n",
    "sub.to_csv('submission.csv',index=False)"
   ]
  }
 ],
 "metadata": {
  "colab": {
   "collapsed_sections": [],
   "name": "02_실기_작업형_연습문제풀이.ipynb",
   "provenance": [],
   "toc_visible": true
  },
  "kernelspec": {
   "display_name": "Python 3",
   "name": "python3"
  },
  "language_info": {
   "name": "python"
  }
 },
 "nbformat": 4,
 "nbformat_minor": 0
}
